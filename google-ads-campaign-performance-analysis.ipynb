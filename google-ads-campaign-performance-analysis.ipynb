{
 "cells": [
  {
   "cell_type": "markdown",
   "id": "73728f31",
   "metadata": {
    "papermill": {
     "duration": 0.01194,
     "end_time": "2025-08-18T00:26:31.220614",
     "exception": false,
     "start_time": "2025-08-18T00:26:31.208674",
     "status": "completed"
    },
    "tags": []
   },
   "source": [
    "**About Dataset**\n",
    "\n",
    "Dataset: Google Ads Campaign Data\n",
    "\n",
    "**Source:** [Kaggle - Google Ads Campaign Data](https://www.kaggle.com/datasets/nayakganesh007/google-ads-sales-dataset)\n",
    "\n",
    "**Overview**\n",
    "\n",
    "Google Ads, previously known as Google AdWords, is an online advertising platform that allows businesses to show ads to potential customers across Google’s network, including search results, websites, and YouTube.\n",
    "\n",
    "This dataset contains simulated Google Ads campaign data promoting data analytics courses and services.\n",
    "In this project, I will analyze campaign performance based on KPIs like Conversion Rate (CR), ROI, CTR, and more, then give recommendations and evaluation for the next campaign.\n",
    "\n",
    "**Key Features:**\n",
    "\n",
    "- `Clicks` \n",
    "- `Impressions`\n",
    "- `Cost`\n",
    "- `Leads`\n",
    "- `Conversions`\n",
    "- `Conversion Rate`"
   ]
  },
  {
   "cell_type": "code",
   "execution_count": 1,
   "id": "7f38cd58",
   "metadata": {
    "execution": {
     "iopub.execute_input": "2025-08-18T00:26:31.242701Z",
     "iopub.status.busy": "2025-08-18T00:26:31.242390Z",
     "iopub.status.idle": "2025-08-18T00:26:35.497759Z",
     "shell.execute_reply": "2025-08-18T00:26:35.496610Z"
    },
    "papermill": {
     "duration": 4.268359,
     "end_time": "2025-08-18T00:26:35.499663",
     "exception": false,
     "start_time": "2025-08-18T00:26:31.231304",
     "status": "completed"
    },
    "tags": []
   },
   "outputs": [],
   "source": [
    "import pandas as pd\n",
    "import numpy as np\n",
    "import matplotlib.pyplot as plt\n",
    "import seaborn as sns"
   ]
  },
  {
   "cell_type": "code",
   "execution_count": 2,
   "id": "3075c741",
   "metadata": {
    "execution": {
     "iopub.execute_input": "2025-08-18T00:26:35.522593Z",
     "iopub.status.busy": "2025-08-18T00:26:35.522123Z",
     "iopub.status.idle": "2025-08-18T00:26:35.597460Z",
     "shell.execute_reply": "2025-08-18T00:26:35.595826Z"
    },
    "executionInfo": {
     "elapsed": 165,
     "status": "ok",
     "timestamp": 1755056720434,
     "user": {
      "displayName": "Ahsan Mubarak",
      "userId": "13952536471194166156"
     },
     "user_tz": -420
    },
    "id": "-PdvSLXOz8Oe",
    "outputId": "a65ba174-9abb-4466-bcc4-b0bee0d02145",
    "papermill": {
     "duration": 0.088571,
     "end_time": "2025-08-18T00:26:35.599687",
     "exception": false,
     "start_time": "2025-08-18T00:26:35.511116",
     "status": "completed"
    },
    "tags": []
   },
   "outputs": [
    {
     "name": "stderr",
     "output_type": "stream",
     "text": [
      "/usr/local/lib/python3.11/dist-packages/pandas/io/formats/format.py:1458: RuntimeWarning: invalid value encountered in greater\n",
      "  has_large_values = (abs_vals > 1e6).any()\n",
      "/usr/local/lib/python3.11/dist-packages/pandas/io/formats/format.py:1459: RuntimeWarning: invalid value encountered in less\n",
      "  has_small_values = ((abs_vals < 10 ** (-self.digits)) & (abs_vals > 0)).any()\n",
      "/usr/local/lib/python3.11/dist-packages/pandas/io/formats/format.py:1459: RuntimeWarning: invalid value encountered in greater\n",
      "  has_small_values = ((abs_vals < 10 ** (-self.digits)) & (abs_vals > 0)).any()\n"
     ]
    },
    {
     "data": {
      "text/html": [
       "<div>\n",
       "<style scoped>\n",
       "    .dataframe tbody tr th:only-of-type {\n",
       "        vertical-align: middle;\n",
       "    }\n",
       "\n",
       "    .dataframe tbody tr th {\n",
       "        vertical-align: top;\n",
       "    }\n",
       "\n",
       "    .dataframe thead th {\n",
       "        text-align: right;\n",
       "    }\n",
       "</style>\n",
       "<table border=\"1\" class=\"dataframe\">\n",
       "  <thead>\n",
       "    <tr style=\"text-align: right;\">\n",
       "      <th></th>\n",
       "      <th>Ad_ID</th>\n",
       "      <th>Campaign_Name</th>\n",
       "      <th>Clicks</th>\n",
       "      <th>Impressions</th>\n",
       "      <th>Cost</th>\n",
       "      <th>Leads</th>\n",
       "      <th>Conversions</th>\n",
       "      <th>Conversion Rate</th>\n",
       "      <th>Sale_Amount</th>\n",
       "      <th>Ad_Date</th>\n",
       "      <th>Location</th>\n",
       "      <th>Device</th>\n",
       "      <th>Keyword</th>\n",
       "    </tr>\n",
       "  </thead>\n",
       "  <tbody>\n",
       "    <tr>\n",
       "      <th>0</th>\n",
       "      <td>A1000</td>\n",
       "      <td>DataAnalyticsCourse</td>\n",
       "      <td>104.0</td>\n",
       "      <td>4498.0</td>\n",
       "      <td>$231.88</td>\n",
       "      <td>14.0</td>\n",
       "      <td>7.0</td>\n",
       "      <td>0.058</td>\n",
       "      <td>$1892</td>\n",
       "      <td>2024-11-16</td>\n",
       "      <td>hyderabad</td>\n",
       "      <td>desktop</td>\n",
       "      <td>learn data analytics</td>\n",
       "    </tr>\n",
       "    <tr>\n",
       "      <th>1</th>\n",
       "      <td>A1001</td>\n",
       "      <td>DataAnalyticsCourse</td>\n",
       "      <td>173.0</td>\n",
       "      <td>5107.0</td>\n",
       "      <td>$216.84</td>\n",
       "      <td>10.0</td>\n",
       "      <td>8.0</td>\n",
       "      <td>0.046</td>\n",
       "      <td>$1679</td>\n",
       "      <td>20-11-2024</td>\n",
       "      <td>hyderabad</td>\n",
       "      <td>mobile</td>\n",
       "      <td>data analytics course</td>\n",
       "    </tr>\n",
       "    <tr>\n",
       "      <th>2</th>\n",
       "      <td>A1002</td>\n",
       "      <td>Data Anlytics Corse</td>\n",
       "      <td>90.0</td>\n",
       "      <td>4544.0</td>\n",
       "      <td>$203.66</td>\n",
       "      <td>26.0</td>\n",
       "      <td>9.0</td>\n",
       "      <td>NaN</td>\n",
       "      <td>$1624</td>\n",
       "      <td>2024/11/16</td>\n",
       "      <td>hyderabad</td>\n",
       "      <td>Desktop</td>\n",
       "      <td>data analitics online</td>\n",
       "    </tr>\n",
       "    <tr>\n",
       "      <th>3</th>\n",
       "      <td>A1003</td>\n",
       "      <td>Data Analytcis Course</td>\n",
       "      <td>142.0</td>\n",
       "      <td>3185.0</td>\n",
       "      <td>$237.66</td>\n",
       "      <td>17.0</td>\n",
       "      <td>6.0</td>\n",
       "      <td>NaN</td>\n",
       "      <td>$1225</td>\n",
       "      <td>2024-11-26</td>\n",
       "      <td>HYDERABAD</td>\n",
       "      <td>tablet</td>\n",
       "      <td>data anaytics training</td>\n",
       "    </tr>\n",
       "    <tr>\n",
       "      <th>4</th>\n",
       "      <td>A1004</td>\n",
       "      <td>Data Analytics Corse</td>\n",
       "      <td>156.0</td>\n",
       "      <td>3361.0</td>\n",
       "      <td>$195.9</td>\n",
       "      <td>30.0</td>\n",
       "      <td>8.0</td>\n",
       "      <td>NaN</td>\n",
       "      <td>$1091</td>\n",
       "      <td>2024-11-22</td>\n",
       "      <td>hyderabad</td>\n",
       "      <td>desktop</td>\n",
       "      <td>online data analytic</td>\n",
       "    </tr>\n",
       "    <tr>\n",
       "      <th>...</th>\n",
       "      <td>...</td>\n",
       "      <td>...</td>\n",
       "      <td>...</td>\n",
       "      <td>...</td>\n",
       "      <td>...</td>\n",
       "      <td>...</td>\n",
       "      <td>...</td>\n",
       "      <td>...</td>\n",
       "      <td>...</td>\n",
       "      <td>...</td>\n",
       "      <td>...</td>\n",
       "      <td>...</td>\n",
       "      <td>...</td>\n",
       "    </tr>\n",
       "    <tr>\n",
       "      <th>2595</th>\n",
       "      <td>A3595</td>\n",
       "      <td>DataAnalyticsCourse</td>\n",
       "      <td>88.0</td>\n",
       "      <td>5344.0</td>\n",
       "      <td>$242.07</td>\n",
       "      <td>17.0</td>\n",
       "      <td>9.0</td>\n",
       "      <td>0.054</td>\n",
       "      <td>$1418</td>\n",
       "      <td>29-11-2024</td>\n",
       "      <td>HYDERABAD</td>\n",
       "      <td>MOBILE</td>\n",
       "      <td>online data analytic</td>\n",
       "    </tr>\n",
       "    <tr>\n",
       "      <th>2596</th>\n",
       "      <td>A3596</td>\n",
       "      <td>DataAnalyticsCourse</td>\n",
       "      <td>154.0</td>\n",
       "      <td>3211.0</td>\n",
       "      <td>$248.28</td>\n",
       "      <td>14.0</td>\n",
       "      <td>6.0</td>\n",
       "      <td>0.039</td>\n",
       "      <td>$1950</td>\n",
       "      <td>2024/11/28</td>\n",
       "      <td>hyderabad</td>\n",
       "      <td>TABLET</td>\n",
       "      <td>data analitics online</td>\n",
       "    </tr>\n",
       "    <tr>\n",
       "      <th>2597</th>\n",
       "      <td>A3597</td>\n",
       "      <td>Data Anlytics Corse</td>\n",
       "      <td>113.0</td>\n",
       "      <td>3808.0</td>\n",
       "      <td>$233.25</td>\n",
       "      <td>18.0</td>\n",
       "      <td>4.0</td>\n",
       "      <td>0.035</td>\n",
       "      <td>$1085</td>\n",
       "      <td>2024-11-02</td>\n",
       "      <td>Hyderbad</td>\n",
       "      <td>desktop</td>\n",
       "      <td>data anaytics training</td>\n",
       "    </tr>\n",
       "    <tr>\n",
       "      <th>2598</th>\n",
       "      <td>A3598</td>\n",
       "      <td>Data Analytics Corse</td>\n",
       "      <td>196.0</td>\n",
       "      <td>5853.0</td>\n",
       "      <td>$220.13</td>\n",
       "      <td>16.0</td>\n",
       "      <td>7.0</td>\n",
       "      <td>0.036</td>\n",
       "      <td>$1558</td>\n",
       "      <td>2024-11-08</td>\n",
       "      <td>hydrebad</td>\n",
       "      <td>Tablet</td>\n",
       "      <td>data anaytics training</td>\n",
       "    </tr>\n",
       "    <tr>\n",
       "      <th>2599</th>\n",
       "      <td>A3599</td>\n",
       "      <td>Data Analytics Corse</td>\n",
       "      <td>NaN</td>\n",
       "      <td>5453.0</td>\n",
       "      <td>NaN</td>\n",
       "      <td>12.0</td>\n",
       "      <td>5.0</td>\n",
       "      <td>NaN</td>\n",
       "      <td>$1174</td>\n",
       "      <td>2024/11/22</td>\n",
       "      <td>HYDERABAD</td>\n",
       "      <td>desktop</td>\n",
       "      <td>analytics for data</td>\n",
       "    </tr>\n",
       "  </tbody>\n",
       "</table>\n",
       "<p>2600 rows × 13 columns</p>\n",
       "</div>"
      ],
      "text/plain": [
       "      Ad_ID          Campaign_Name  Clicks  Impressions     Cost  Leads  \\\n",
       "0     A1000    DataAnalyticsCourse   104.0       4498.0  $231.88   14.0   \n",
       "1     A1001    DataAnalyticsCourse   173.0       5107.0  $216.84   10.0   \n",
       "2     A1002    Data Anlytics Corse    90.0       4544.0  $203.66   26.0   \n",
       "3     A1003  Data Analytcis Course   142.0       3185.0  $237.66   17.0   \n",
       "4     A1004   Data Analytics Corse   156.0       3361.0   $195.9   30.0   \n",
       "...     ...                    ...     ...          ...      ...    ...   \n",
       "2595  A3595    DataAnalyticsCourse    88.0       5344.0  $242.07   17.0   \n",
       "2596  A3596    DataAnalyticsCourse   154.0       3211.0  $248.28   14.0   \n",
       "2597  A3597    Data Anlytics Corse   113.0       3808.0  $233.25   18.0   \n",
       "2598  A3598   Data Analytics Corse   196.0       5853.0  $220.13   16.0   \n",
       "2599  A3599   Data Analytics Corse     NaN       5453.0      NaN   12.0   \n",
       "\n",
       "      Conversions  Conversion Rate Sale_Amount     Ad_Date   Location  \\\n",
       "0             7.0            0.058       $1892  2024-11-16  hyderabad   \n",
       "1             8.0            0.046       $1679  20-11-2024  hyderabad   \n",
       "2             9.0              NaN       $1624  2024/11/16  hyderabad   \n",
       "3             6.0              NaN       $1225  2024-11-26  HYDERABAD   \n",
       "4             8.0              NaN       $1091  2024-11-22  hyderabad   \n",
       "...           ...              ...         ...         ...        ...   \n",
       "2595          9.0            0.054       $1418  29-11-2024  HYDERABAD   \n",
       "2596          6.0            0.039       $1950  2024/11/28  hyderabad   \n",
       "2597          4.0            0.035       $1085  2024-11-02   Hyderbad   \n",
       "2598          7.0            0.036       $1558  2024-11-08   hydrebad   \n",
       "2599          5.0              NaN       $1174  2024/11/22  HYDERABAD   \n",
       "\n",
       "       Device                 Keyword  \n",
       "0     desktop    learn data analytics  \n",
       "1      mobile   data analytics course  \n",
       "2     Desktop   data analitics online  \n",
       "3      tablet  data anaytics training  \n",
       "4     desktop    online data analytic  \n",
       "...       ...                     ...  \n",
       "2595   MOBILE    online data analytic  \n",
       "2596   TABLET   data analitics online  \n",
       "2597  desktop  data anaytics training  \n",
       "2598   Tablet  data anaytics training  \n",
       "2599  desktop      analytics for data  \n",
       "\n",
       "[2600 rows x 13 columns]"
      ]
     },
     "execution_count": 2,
     "metadata": {},
     "output_type": "execute_result"
    }
   ],
   "source": [
    "df = pd.read_csv('/kaggle/input/google-ads-campign-data/GoogleAdsCampaignData.csv')\n",
    "\n",
    "df"
   ]
  },
  {
   "cell_type": "markdown",
   "id": "e7fd8f61",
   "metadata": {
    "papermill": {
     "duration": 0.010123,
     "end_time": "2025-08-18T00:26:35.620642",
     "exception": false,
     "start_time": "2025-08-18T00:26:35.610519",
     "status": "completed"
    },
    "tags": []
   },
   "source": [
    "**Data Cleaning and Understanding**"
   ]
  },
  {
   "cell_type": "code",
   "execution_count": 3,
   "id": "6d358137",
   "metadata": {
    "execution": {
     "iopub.execute_input": "2025-08-18T00:26:35.644055Z",
     "iopub.status.busy": "2025-08-18T00:26:35.643628Z",
     "iopub.status.idle": "2025-08-18T00:26:35.669243Z",
     "shell.execute_reply": "2025-08-18T00:26:35.668154Z"
    },
    "executionInfo": {
     "elapsed": 25,
     "status": "ok",
     "timestamp": 1755056720462,
     "user": {
      "displayName": "Ahsan Mubarak",
      "userId": "13952536471194166156"
     },
     "user_tz": -420
    },
    "id": "fwJXy5sz0dsd",
    "outputId": "45caab52-a504-4b42-8c05-f3e60f023e4e",
    "papermill": {
     "duration": 0.039458,
     "end_time": "2025-08-18T00:26:35.670920",
     "exception": false,
     "start_time": "2025-08-18T00:26:35.631462",
     "status": "completed"
    },
    "tags": []
   },
   "outputs": [
    {
     "name": "stdout",
     "output_type": "stream",
     "text": [
      "<class 'pandas.core.frame.DataFrame'>\n",
      "RangeIndex: 2600 entries, 0 to 2599\n",
      "Data columns (total 13 columns):\n",
      " #   Column           Non-Null Count  Dtype  \n",
      "---  ------           --------------  -----  \n",
      " 0   Ad_ID            2600 non-null   object \n",
      " 1   Campaign_Name    2600 non-null   object \n",
      " 2   Clicks           2488 non-null   float64\n",
      " 3   Impressions      2546 non-null   float64\n",
      " 4   Cost             2503 non-null   object \n",
      " 5   Leads            2552 non-null   float64\n",
      " 6   Conversions      2526 non-null   float64\n",
      " 7   Conversion Rate  1974 non-null   float64\n",
      " 8   Sale_Amount      2461 non-null   object \n",
      " 9   Ad_Date          2600 non-null   object \n",
      " 10  Location         2600 non-null   object \n",
      " 11  Device           2600 non-null   object \n",
      " 12  Keyword          2600 non-null   object \n",
      "dtypes: float64(5), object(8)\n",
      "memory usage: 264.2+ KB\n"
     ]
    }
   ],
   "source": [
    "df.info()"
   ]
  },
  {
   "cell_type": "code",
   "execution_count": 4,
   "id": "5bc87ab7",
   "metadata": {
    "execution": {
     "iopub.execute_input": "2025-08-18T00:26:35.693519Z",
     "iopub.status.busy": "2025-08-18T00:26:35.693175Z",
     "iopub.status.idle": "2025-08-18T00:26:35.698655Z",
     "shell.execute_reply": "2025-08-18T00:26:35.697681Z"
    },
    "executionInfo": {
     "elapsed": 33,
     "status": "ok",
     "timestamp": 1755056720498,
     "user": {
      "displayName": "Ahsan Mubarak",
      "userId": "13952536471194166156"
     },
     "user_tz": -420
    },
    "id": "FQ5qLqn-nY1t",
    "papermill": {
     "duration": 0.018781,
     "end_time": "2025-08-18T00:26:35.700497",
     "exception": false,
     "start_time": "2025-08-18T00:26:35.681716",
     "status": "completed"
    },
    "tags": []
   },
   "outputs": [],
   "source": [
    "df.rename(columns={'Sale_Amount': 'Sales_Amount'}, inplace=True)"
   ]
  },
  {
   "cell_type": "code",
   "execution_count": 5,
   "id": "22d30b1f",
   "metadata": {
    "execution": {
     "iopub.execute_input": "2025-08-18T00:26:35.723221Z",
     "iopub.status.busy": "2025-08-18T00:26:35.722568Z",
     "iopub.status.idle": "2025-08-18T00:26:35.727912Z",
     "shell.execute_reply": "2025-08-18T00:26:35.726974Z"
    },
    "papermill": {
     "duration": 0.018464,
     "end_time": "2025-08-18T00:26:35.729639",
     "exception": false,
     "start_time": "2025-08-18T00:26:35.711175",
     "status": "completed"
    },
    "tags": []
   },
   "outputs": [],
   "source": [
    "df.rename(columns={'Conversion Rate': 'Conversion_Rate'}, inplace=True)"
   ]
  },
  {
   "cell_type": "code",
   "execution_count": 6,
   "id": "b79e05b7",
   "metadata": {
    "execution": {
     "iopub.execute_input": "2025-08-18T00:26:35.753421Z",
     "iopub.status.busy": "2025-08-18T00:26:35.753137Z",
     "iopub.status.idle": "2025-08-18T00:26:35.773061Z",
     "shell.execute_reply": "2025-08-18T00:26:35.772129Z"
    },
    "executionInfo": {
     "elapsed": 154,
     "status": "ok",
     "timestamp": 1755056720654,
     "user": {
      "displayName": "Ahsan Mubarak",
      "userId": "13952536471194166156"
     },
     "user_tz": -420
    },
    "id": "9ucs56OS0gUJ",
    "outputId": "b4d06855-385e-439b-8fbb-bb9582978721",
    "papermill": {
     "duration": 0.033506,
     "end_time": "2025-08-18T00:26:35.774611",
     "exception": false,
     "start_time": "2025-08-18T00:26:35.741105",
     "status": "completed"
    },
    "tags": []
   },
   "outputs": [
    {
     "data": {
      "text/plain": [
       "0      2024-11-16\n",
       "1      2024-11-20\n",
       "2      2024-11-16\n",
       "3      2024-11-26\n",
       "4      2024-11-22\n",
       "          ...    \n",
       "2595   2024-11-29\n",
       "2596   2024-11-28\n",
       "2597   2024-11-02\n",
       "2598   2024-11-08\n",
       "2599   2024-11-22\n",
       "Name: Ad_Date, Length: 2600, dtype: datetime64[ns]"
      ]
     },
     "execution_count": 6,
     "metadata": {},
     "output_type": "execute_result"
    }
   ],
   "source": [
    "df['Ad_Date'] = pd.to_datetime(df['Ad_Date'], format='mixed', dayfirst=True)\n",
    "df['Ad_Date'] = pd.to_datetime(df['Ad_Date'], format='%Y-%m-%d')\n",
    "df['Ad_Date']"
   ]
  },
  {
   "cell_type": "code",
   "execution_count": 7,
   "id": "59c22f7e",
   "metadata": {
    "execution": {
     "iopub.execute_input": "2025-08-18T00:26:35.797779Z",
     "iopub.status.busy": "2025-08-18T00:26:35.797475Z",
     "iopub.status.idle": "2025-08-18T00:26:35.807011Z",
     "shell.execute_reply": "2025-08-18T00:26:35.806183Z"
    },
    "executionInfo": {
     "elapsed": 16,
     "status": "ok",
     "timestamp": 1755056720672,
     "user": {
      "displayName": "Ahsan Mubarak",
      "userId": "13952536471194166156"
     },
     "user_tz": -420
    },
    "id": "U2-I0USrfRqn",
    "outputId": "2eecb8a3-c43b-4277-e8e3-25f1795e265c",
    "papermill": {
     "duration": 0.022688,
     "end_time": "2025-08-18T00:26:35.808543",
     "exception": false,
     "start_time": "2025-08-18T00:26:35.785855",
     "status": "completed"
    },
    "tags": []
   },
   "outputs": [
    {
     "data": {
      "text/plain": [
       "array(['Data Analytics Course'], dtype=object)"
      ]
     },
     "execution_count": 7,
     "metadata": {},
     "output_type": "execute_result"
    }
   ],
   "source": [
    "df['Campaign_Name'].unique()\n",
    "\n",
    "campaign_mapping = {\n",
    "    'DataAnalyticsCourse': 'Data Analytics Course',\n",
    "    'Data Anlytics Corse': 'Data Analytics Course',\n",
    "    'Data Analytcis Course': 'Data Analytics Course',\n",
    "    'Data Analytics Corse': 'Data Analytics Course'\n",
    "\n",
    "}\n",
    "\n",
    "df['Campaign_Name'] = df['Campaign_Name'].map(campaign_mapping)\n",
    "\n",
    "df['Campaign_Name'].unique()"
   ]
  },
  {
   "cell_type": "code",
   "execution_count": 8,
   "id": "ee2853c9",
   "metadata": {
    "execution": {
     "iopub.execute_input": "2025-08-18T00:26:35.831759Z",
     "iopub.status.busy": "2025-08-18T00:26:35.831445Z",
     "iopub.status.idle": "2025-08-18T00:26:35.843283Z",
     "shell.execute_reply": "2025-08-18T00:26:35.842132Z"
    },
    "executionInfo": {
     "elapsed": 6,
     "status": "ok",
     "timestamp": 1755056720681,
     "user": {
      "displayName": "Ahsan Mubarak",
      "userId": "13952536471194166156"
     },
     "user_tz": -420
    },
    "id": "Qq8YFhfX1HqO",
    "outputId": "78fa98a9-a061-40df-a36e-58e677b51a86",
    "papermill": {
     "duration": 0.025475,
     "end_time": "2025-08-18T00:26:35.844908",
     "exception": false,
     "start_time": "2025-08-18T00:26:35.819433",
     "status": "completed"
    },
    "tags": []
   },
   "outputs": [
    {
     "data": {
      "text/plain": [
       "array(['Hyderabad'], dtype=object)"
      ]
     },
     "execution_count": 8,
     "metadata": {},
     "output_type": "execute_result"
    }
   ],
   "source": [
    "df['Location'].unique()\n",
    "\n",
    "df['Location'] = df['Location'].str.strip().str.lower()\n",
    "\n",
    "location_mapping = {\n",
    "    'hyderabad': 'Hyderabad',\n",
    "    'hyderbad': 'Hyderabad',\n",
    "    'hydrebad': 'Hyderabad'\n",
    "}\n",
    "\n",
    "df['Location'] = df['Location'].map(location_mapping)\n",
    "\n",
    "df['Location'].unique()"
   ]
  },
  {
   "cell_type": "code",
   "execution_count": 9,
   "id": "9153bb0c",
   "metadata": {
    "execution": {
     "iopub.execute_input": "2025-08-18T00:26:35.870074Z",
     "iopub.status.busy": "2025-08-18T00:26:35.869163Z",
     "iopub.status.idle": "2025-08-18T00:26:35.879124Z",
     "shell.execute_reply": "2025-08-18T00:26:35.878268Z"
    },
    "executionInfo": {
     "elapsed": 11,
     "status": "ok",
     "timestamp": 1755056720694,
     "user": {
      "displayName": "Ahsan Mubarak",
      "userId": "13952536471194166156"
     },
     "user_tz": -420
    },
    "id": "m2y_FL3M138Q",
    "outputId": "c7bd10ea-04d4-4aa5-ff43-93bc1822f899",
    "papermill": {
     "duration": 0.025041,
     "end_time": "2025-08-18T00:26:35.880811",
     "exception": false,
     "start_time": "2025-08-18T00:26:35.855770",
     "status": "completed"
    },
    "tags": []
   },
   "outputs": [
    {
     "data": {
      "text/plain": [
       "0       desktop\n",
       "1        mobile\n",
       "2       desktop\n",
       "3        tablet\n",
       "4       desktop\n",
       "         ...   \n",
       "2595     mobile\n",
       "2596     tablet\n",
       "2597    desktop\n",
       "2598     tablet\n",
       "2599    desktop\n",
       "Name: Device, Length: 2600, dtype: object"
      ]
     },
     "execution_count": 9,
     "metadata": {},
     "output_type": "execute_result"
    }
   ],
   "source": [
    "df['Device'].unique()\n",
    "\n",
    "df['Device'] = df['Device'].str.strip().str.lower()\n",
    "\n",
    "df['Device']"
   ]
  },
  {
   "cell_type": "code",
   "execution_count": 10,
   "id": "c302d78f",
   "metadata": {
    "execution": {
     "iopub.execute_input": "2025-08-18T00:26:35.904533Z",
     "iopub.status.busy": "2025-08-18T00:26:35.903604Z",
     "iopub.status.idle": "2025-08-18T00:26:35.910789Z",
     "shell.execute_reply": "2025-08-18T00:26:35.909941Z"
    },
    "executionInfo": {
     "elapsed": 66,
     "status": "ok",
     "timestamp": 1755056720762,
     "user": {
      "displayName": "Ahsan Mubarak",
      "userId": "13952536471194166156"
     },
     "user_tz": -420
    },
    "id": "68xsk1Cb2IHt",
    "outputId": "18d03bf2-e6af-43c1-cf53-549a576c95cc",
    "papermill": {
     "duration": 0.020512,
     "end_time": "2025-08-18T00:26:35.912360",
     "exception": false,
     "start_time": "2025-08-18T00:26:35.891848",
     "status": "completed"
    },
    "tags": []
   },
   "outputs": [
    {
     "data": {
      "text/plain": [
       "array(['learn data analytics', 'data analytics course',\n",
       "       'data analitics online', 'data anaytics training',\n",
       "       'online data analytic', 'analytics for data'], dtype=object)"
      ]
     },
     "execution_count": 10,
     "metadata": {},
     "output_type": "execute_result"
    }
   ],
   "source": [
    "df['Keyword'].unique()"
   ]
  },
  {
   "cell_type": "code",
   "execution_count": 11,
   "id": "72eb37fb",
   "metadata": {
    "execution": {
     "iopub.execute_input": "2025-08-18T00:26:35.935812Z",
     "iopub.status.busy": "2025-08-18T00:26:35.935528Z",
     "iopub.status.idle": "2025-08-18T00:26:35.945275Z",
     "shell.execute_reply": "2025-08-18T00:26:35.944226Z"
    },
    "executionInfo": {
     "elapsed": 16,
     "status": "ok",
     "timestamp": 1755056720763,
     "user": {
      "displayName": "Ahsan Mubarak",
      "userId": "13952536471194166156"
     },
     "user_tz": -420
    },
    "id": "1j-mgnhBYKA3",
    "outputId": "f75925b5-6ea4-4da1-a42e-67567dbb4294",
    "papermill": {
     "duration": 0.023184,
     "end_time": "2025-08-18T00:26:35.946855",
     "exception": false,
     "start_time": "2025-08-18T00:26:35.923671",
     "status": "completed"
    },
    "tags": []
   },
   "outputs": [
    {
     "data": {
      "text/plain": [
       "Ad_ID                0\n",
       "Campaign_Name        0\n",
       "Clicks             112\n",
       "Impressions         54\n",
       "Cost                97\n",
       "Leads               48\n",
       "Conversions         74\n",
       "Conversion_Rate    626\n",
       "Sales_Amount       139\n",
       "Ad_Date              0\n",
       "Location             0\n",
       "Device               0\n",
       "Keyword              0\n",
       "dtype: int64"
      ]
     },
     "execution_count": 11,
     "metadata": {},
     "output_type": "execute_result"
    }
   ],
   "source": [
    "df.isna().sum()"
   ]
  },
  {
   "cell_type": "code",
   "execution_count": 12,
   "id": "c23b64ca",
   "metadata": {
    "execution": {
     "iopub.execute_input": "2025-08-18T00:26:35.970504Z",
     "iopub.status.busy": "2025-08-18T00:26:35.970209Z",
     "iopub.status.idle": "2025-08-18T00:26:35.994359Z",
     "shell.execute_reply": "2025-08-18T00:26:35.993397Z"
    },
    "executionInfo": {
     "elapsed": 46,
     "status": "ok",
     "timestamp": 1755056720805,
     "user": {
      "displayName": "Ahsan Mubarak",
      "userId": "13952536471194166156"
     },
     "user_tz": -420
    },
    "id": "4o7yZD9cgikK",
    "outputId": "662d0897-5ac4-4c2a-a6dc-a8af0e612835",
    "papermill": {
     "duration": 0.037682,
     "end_time": "2025-08-18T00:26:35.995811",
     "exception": false,
     "start_time": "2025-08-18T00:26:35.958129",
     "status": "completed"
    },
    "tags": []
   },
   "outputs": [
    {
     "name": "stderr",
     "output_type": "stream",
     "text": [
      "/usr/local/lib/python3.11/dist-packages/pandas/io/formats/format.py:1458: RuntimeWarning: invalid value encountered in greater\n",
      "  has_large_values = (abs_vals > 1e6).any()\n",
      "/usr/local/lib/python3.11/dist-packages/pandas/io/formats/format.py:1459: RuntimeWarning: invalid value encountered in less\n",
      "  has_small_values = ((abs_vals < 10 ** (-self.digits)) & (abs_vals > 0)).any()\n",
      "/usr/local/lib/python3.11/dist-packages/pandas/io/formats/format.py:1459: RuntimeWarning: invalid value encountered in greater\n",
      "  has_small_values = ((abs_vals < 10 ** (-self.digits)) & (abs_vals > 0)).any()\n"
     ]
    },
    {
     "data": {
      "text/html": [
       "<div>\n",
       "<style scoped>\n",
       "    .dataframe tbody tr th:only-of-type {\n",
       "        vertical-align: middle;\n",
       "    }\n",
       "\n",
       "    .dataframe tbody tr th {\n",
       "        vertical-align: top;\n",
       "    }\n",
       "\n",
       "    .dataframe thead th {\n",
       "        text-align: right;\n",
       "    }\n",
       "</style>\n",
       "<table border=\"1\" class=\"dataframe\">\n",
       "  <thead>\n",
       "    <tr style=\"text-align: right;\">\n",
       "      <th></th>\n",
       "      <th>Ad_ID</th>\n",
       "      <th>Campaign_Name</th>\n",
       "      <th>Clicks</th>\n",
       "      <th>Impressions</th>\n",
       "      <th>Cost</th>\n",
       "      <th>Leads</th>\n",
       "      <th>Conversions</th>\n",
       "      <th>Conversion_Rate</th>\n",
       "      <th>Sales_Amount</th>\n",
       "      <th>Ad_Date</th>\n",
       "      <th>Location</th>\n",
       "      <th>Device</th>\n",
       "      <th>Keyword</th>\n",
       "    </tr>\n",
       "  </thead>\n",
       "  <tbody>\n",
       "    <tr>\n",
       "      <th>2</th>\n",
       "      <td>A1002</td>\n",
       "      <td>Data Analytics Course</td>\n",
       "      <td>90.0</td>\n",
       "      <td>4544.0</td>\n",
       "      <td>$203.66</td>\n",
       "      <td>26.0</td>\n",
       "      <td>9.0</td>\n",
       "      <td>NaN</td>\n",
       "      <td>$1624</td>\n",
       "      <td>2024-11-16</td>\n",
       "      <td>Hyderabad</td>\n",
       "      <td>desktop</td>\n",
       "      <td>data analitics online</td>\n",
       "    </tr>\n",
       "    <tr>\n",
       "      <th>3</th>\n",
       "      <td>A1003</td>\n",
       "      <td>Data Analytics Course</td>\n",
       "      <td>142.0</td>\n",
       "      <td>3185.0</td>\n",
       "      <td>$237.66</td>\n",
       "      <td>17.0</td>\n",
       "      <td>6.0</td>\n",
       "      <td>NaN</td>\n",
       "      <td>$1225</td>\n",
       "      <td>2024-11-26</td>\n",
       "      <td>Hyderabad</td>\n",
       "      <td>tablet</td>\n",
       "      <td>data anaytics training</td>\n",
       "    </tr>\n",
       "    <tr>\n",
       "      <th>4</th>\n",
       "      <td>A1004</td>\n",
       "      <td>Data Analytics Course</td>\n",
       "      <td>156.0</td>\n",
       "      <td>3361.0</td>\n",
       "      <td>$195.9</td>\n",
       "      <td>30.0</td>\n",
       "      <td>8.0</td>\n",
       "      <td>NaN</td>\n",
       "      <td>$1091</td>\n",
       "      <td>2024-11-22</td>\n",
       "      <td>Hyderabad</td>\n",
       "      <td>desktop</td>\n",
       "      <td>online data analytic</td>\n",
       "    </tr>\n",
       "    <tr>\n",
       "      <th>5</th>\n",
       "      <td>A1005</td>\n",
       "      <td>Data Analytics Course</td>\n",
       "      <td>195.0</td>\n",
       "      <td>3776.0</td>\n",
       "      <td>$243.57</td>\n",
       "      <td>10.0</td>\n",
       "      <td>8.0</td>\n",
       "      <td>NaN</td>\n",
       "      <td>$1315</td>\n",
       "      <td>2024-11-16</td>\n",
       "      <td>Hyderabad</td>\n",
       "      <td>mobile</td>\n",
       "      <td>data anaytics training</td>\n",
       "    </tr>\n",
       "    <tr>\n",
       "      <th>8</th>\n",
       "      <td>A1008</td>\n",
       "      <td>Data Analytics Course</td>\n",
       "      <td>113.0</td>\n",
       "      <td>5434.0</td>\n",
       "      <td>NaN</td>\n",
       "      <td>27.0</td>\n",
       "      <td>4.0</td>\n",
       "      <td>0.058</td>\n",
       "      <td>$1362</td>\n",
       "      <td>2024-11-24</td>\n",
       "      <td>Hyderabad</td>\n",
       "      <td>tablet</td>\n",
       "      <td>data anaytics training</td>\n",
       "    </tr>\n",
       "    <tr>\n",
       "      <th>...</th>\n",
       "      <td>...</td>\n",
       "      <td>...</td>\n",
       "      <td>...</td>\n",
       "      <td>...</td>\n",
       "      <td>...</td>\n",
       "      <td>...</td>\n",
       "      <td>...</td>\n",
       "      <td>...</td>\n",
       "      <td>...</td>\n",
       "      <td>...</td>\n",
       "      <td>...</td>\n",
       "      <td>...</td>\n",
       "      <td>...</td>\n",
       "    </tr>\n",
       "    <tr>\n",
       "      <th>2585</th>\n",
       "      <td>A3585</td>\n",
       "      <td>Data Analytics Course</td>\n",
       "      <td>97.0</td>\n",
       "      <td>5914.0</td>\n",
       "      <td>$226.47</td>\n",
       "      <td>15.0</td>\n",
       "      <td>7.0</td>\n",
       "      <td>NaN</td>\n",
       "      <td>$1889</td>\n",
       "      <td>2024-11-08</td>\n",
       "      <td>Hyderabad</td>\n",
       "      <td>tablet</td>\n",
       "      <td>online data analytic</td>\n",
       "    </tr>\n",
       "    <tr>\n",
       "      <th>2586</th>\n",
       "      <td>A3586</td>\n",
       "      <td>Data Analytics Course</td>\n",
       "      <td>186.0</td>\n",
       "      <td>3314.0</td>\n",
       "      <td>$237.84</td>\n",
       "      <td>11.0</td>\n",
       "      <td>5.0</td>\n",
       "      <td>NaN</td>\n",
       "      <td>$1864</td>\n",
       "      <td>2024-11-05</td>\n",
       "      <td>Hyderabad</td>\n",
       "      <td>tablet</td>\n",
       "      <td>data analitics online</td>\n",
       "    </tr>\n",
       "    <tr>\n",
       "      <th>2592</th>\n",
       "      <td>A3592</td>\n",
       "      <td>Data Analytics Course</td>\n",
       "      <td>152.0</td>\n",
       "      <td>5061.0</td>\n",
       "      <td>$234.42</td>\n",
       "      <td>12.0</td>\n",
       "      <td>5.0</td>\n",
       "      <td>NaN</td>\n",
       "      <td>$1566</td>\n",
       "      <td>2024-11-10</td>\n",
       "      <td>Hyderabad</td>\n",
       "      <td>tablet</td>\n",
       "      <td>online data analytic</td>\n",
       "    </tr>\n",
       "    <tr>\n",
       "      <th>2593</th>\n",
       "      <td>A3593</td>\n",
       "      <td>Data Analytics Course</td>\n",
       "      <td>189.0</td>\n",
       "      <td>5944.0</td>\n",
       "      <td>$202.89</td>\n",
       "      <td>28.0</td>\n",
       "      <td>5.0</td>\n",
       "      <td>NaN</td>\n",
       "      <td>$1360</td>\n",
       "      <td>2024-11-08</td>\n",
       "      <td>Hyderabad</td>\n",
       "      <td>mobile</td>\n",
       "      <td>data analytics course</td>\n",
       "    </tr>\n",
       "    <tr>\n",
       "      <th>2599</th>\n",
       "      <td>A3599</td>\n",
       "      <td>Data Analytics Course</td>\n",
       "      <td>NaN</td>\n",
       "      <td>5453.0</td>\n",
       "      <td>NaN</td>\n",
       "      <td>12.0</td>\n",
       "      <td>5.0</td>\n",
       "      <td>NaN</td>\n",
       "      <td>$1174</td>\n",
       "      <td>2024-11-22</td>\n",
       "      <td>Hyderabad</td>\n",
       "      <td>desktop</td>\n",
       "      <td>analytics for data</td>\n",
       "    </tr>\n",
       "  </tbody>\n",
       "</table>\n",
       "<p>891 rows × 13 columns</p>\n",
       "</div>"
      ],
      "text/plain": [
       "      Ad_ID          Campaign_Name  Clicks  Impressions     Cost  Leads  \\\n",
       "2     A1002  Data Analytics Course    90.0       4544.0  $203.66   26.0   \n",
       "3     A1003  Data Analytics Course   142.0       3185.0  $237.66   17.0   \n",
       "4     A1004  Data Analytics Course   156.0       3361.0   $195.9   30.0   \n",
       "5     A1005  Data Analytics Course   195.0       3776.0  $243.57   10.0   \n",
       "8     A1008  Data Analytics Course   113.0       5434.0      NaN   27.0   \n",
       "...     ...                    ...     ...          ...      ...    ...   \n",
       "2585  A3585  Data Analytics Course    97.0       5914.0  $226.47   15.0   \n",
       "2586  A3586  Data Analytics Course   186.0       3314.0  $237.84   11.0   \n",
       "2592  A3592  Data Analytics Course   152.0       5061.0  $234.42   12.0   \n",
       "2593  A3593  Data Analytics Course   189.0       5944.0  $202.89   28.0   \n",
       "2599  A3599  Data Analytics Course     NaN       5453.0      NaN   12.0   \n",
       "\n",
       "      Conversions  Conversion_Rate Sales_Amount    Ad_Date   Location  \\\n",
       "2             9.0              NaN        $1624 2024-11-16  Hyderabad   \n",
       "3             6.0              NaN        $1225 2024-11-26  Hyderabad   \n",
       "4             8.0              NaN        $1091 2024-11-22  Hyderabad   \n",
       "5             8.0              NaN        $1315 2024-11-16  Hyderabad   \n",
       "8             4.0            0.058        $1362 2024-11-24  Hyderabad   \n",
       "...           ...              ...          ...        ...        ...   \n",
       "2585          7.0              NaN        $1889 2024-11-08  Hyderabad   \n",
       "2586          5.0              NaN        $1864 2024-11-05  Hyderabad   \n",
       "2592          5.0              NaN        $1566 2024-11-10  Hyderabad   \n",
       "2593          5.0              NaN        $1360 2024-11-08  Hyderabad   \n",
       "2599          5.0              NaN        $1174 2024-11-22  Hyderabad   \n",
       "\n",
       "       Device                 Keyword  \n",
       "2     desktop   data analitics online  \n",
       "3      tablet  data anaytics training  \n",
       "4     desktop    online data analytic  \n",
       "5      mobile  data anaytics training  \n",
       "8      tablet  data anaytics training  \n",
       "...       ...                     ...  \n",
       "2585   tablet    online data analytic  \n",
       "2586   tablet   data analitics online  \n",
       "2592   tablet    online data analytic  \n",
       "2593   mobile   data analytics course  \n",
       "2599  desktop      analytics for data  \n",
       "\n",
       "[891 rows x 13 columns]"
      ]
     },
     "execution_count": 12,
     "metadata": {},
     "output_type": "execute_result"
    }
   ],
   "source": [
    "df[df.isnull().any(axis=1)]"
   ]
  },
  {
   "cell_type": "code",
   "execution_count": 13,
   "id": "cea02757",
   "metadata": {
    "execution": {
     "iopub.execute_input": "2025-08-18T00:26:36.089591Z",
     "iopub.status.busy": "2025-08-18T00:26:36.089313Z",
     "iopub.status.idle": "2025-08-18T00:26:36.108602Z",
     "shell.execute_reply": "2025-08-18T00:26:36.107658Z"
    },
    "executionInfo": {
     "elapsed": 65,
     "status": "ok",
     "timestamp": 1755056720867,
     "user": {
      "displayName": "Ahsan Mubarak",
      "userId": "13952536471194166156"
     },
     "user_tz": -420
    },
    "id": "Kd2-_nhpg57T",
    "outputId": "6ec06be1-ac24-4e9b-837e-08aaba7edb9f",
    "papermill": {
     "duration": 0.102339,
     "end_time": "2025-08-18T00:26:36.110298",
     "exception": false,
     "start_time": "2025-08-18T00:26:36.007959",
     "status": "completed"
    },
    "tags": []
   },
   "outputs": [
    {
     "name": "stderr",
     "output_type": "stream",
     "text": [
      "/usr/local/lib/python3.11/dist-packages/pandas/io/formats/format.py:1458: RuntimeWarning: invalid value encountered in greater\n",
      "  has_large_values = (abs_vals > 1e6).any()\n",
      "/usr/local/lib/python3.11/dist-packages/pandas/io/formats/format.py:1459: RuntimeWarning: invalid value encountered in less\n",
      "  has_small_values = ((abs_vals < 10 ** (-self.digits)) & (abs_vals > 0)).any()\n",
      "/usr/local/lib/python3.11/dist-packages/pandas/io/formats/format.py:1459: RuntimeWarning: invalid value encountered in greater\n",
      "  has_small_values = ((abs_vals < 10 ** (-self.digits)) & (abs_vals > 0)).any()\n"
     ]
    },
    {
     "data": {
      "text/html": [
       "<div>\n",
       "<style scoped>\n",
       "    .dataframe tbody tr th:only-of-type {\n",
       "        vertical-align: middle;\n",
       "    }\n",
       "\n",
       "    .dataframe tbody tr th {\n",
       "        vertical-align: top;\n",
       "    }\n",
       "\n",
       "    .dataframe thead th {\n",
       "        text-align: right;\n",
       "    }\n",
       "</style>\n",
       "<table border=\"1\" class=\"dataframe\">\n",
       "  <thead>\n",
       "    <tr style=\"text-align: right;\">\n",
       "      <th></th>\n",
       "      <th>Ad_ID</th>\n",
       "      <th>Campaign_Name</th>\n",
       "      <th>Clicks</th>\n",
       "      <th>Impressions</th>\n",
       "      <th>Cost</th>\n",
       "      <th>Leads</th>\n",
       "      <th>Conversions</th>\n",
       "      <th>Conversion_Rate</th>\n",
       "      <th>Sales_Amount</th>\n",
       "      <th>Ad_Date</th>\n",
       "      <th>Location</th>\n",
       "      <th>Device</th>\n",
       "      <th>Keyword</th>\n",
       "    </tr>\n",
       "  </thead>\n",
       "  <tbody>\n",
       "    <tr>\n",
       "      <th>0</th>\n",
       "      <td>A1000</td>\n",
       "      <td>Data Analytics Course</td>\n",
       "      <td>104.0</td>\n",
       "      <td>4498.0</td>\n",
       "      <td>$231.88</td>\n",
       "      <td>14.0</td>\n",
       "      <td>7.0</td>\n",
       "      <td>0.058</td>\n",
       "      <td>$1892</td>\n",
       "      <td>2024-11-16</td>\n",
       "      <td>Hyderabad</td>\n",
       "      <td>desktop</td>\n",
       "      <td>learn data analytics</td>\n",
       "    </tr>\n",
       "    <tr>\n",
       "      <th>1</th>\n",
       "      <td>A1001</td>\n",
       "      <td>Data Analytics Course</td>\n",
       "      <td>173.0</td>\n",
       "      <td>5107.0</td>\n",
       "      <td>$216.84</td>\n",
       "      <td>10.0</td>\n",
       "      <td>8.0</td>\n",
       "      <td>0.046</td>\n",
       "      <td>$1679</td>\n",
       "      <td>2024-11-20</td>\n",
       "      <td>Hyderabad</td>\n",
       "      <td>mobile</td>\n",
       "      <td>data analytics course</td>\n",
       "    </tr>\n",
       "    <tr>\n",
       "      <th>2</th>\n",
       "      <td>A1002</td>\n",
       "      <td>Data Analytics Course</td>\n",
       "      <td>90.0</td>\n",
       "      <td>4544.0</td>\n",
       "      <td>$203.66</td>\n",
       "      <td>26.0</td>\n",
       "      <td>9.0</td>\n",
       "      <td>NaN</td>\n",
       "      <td>$1624</td>\n",
       "      <td>2024-11-16</td>\n",
       "      <td>Hyderabad</td>\n",
       "      <td>desktop</td>\n",
       "      <td>data analitics online</td>\n",
       "    </tr>\n",
       "    <tr>\n",
       "      <th>3</th>\n",
       "      <td>A1003</td>\n",
       "      <td>Data Analytics Course</td>\n",
       "      <td>142.0</td>\n",
       "      <td>3185.0</td>\n",
       "      <td>$237.66</td>\n",
       "      <td>17.0</td>\n",
       "      <td>6.0</td>\n",
       "      <td>NaN</td>\n",
       "      <td>$1225</td>\n",
       "      <td>2024-11-26</td>\n",
       "      <td>Hyderabad</td>\n",
       "      <td>tablet</td>\n",
       "      <td>data anaytics training</td>\n",
       "    </tr>\n",
       "    <tr>\n",
       "      <th>4</th>\n",
       "      <td>A1004</td>\n",
       "      <td>Data Analytics Course</td>\n",
       "      <td>156.0</td>\n",
       "      <td>3361.0</td>\n",
       "      <td>$195.9</td>\n",
       "      <td>30.0</td>\n",
       "      <td>8.0</td>\n",
       "      <td>NaN</td>\n",
       "      <td>$1091</td>\n",
       "      <td>2024-11-22</td>\n",
       "      <td>Hyderabad</td>\n",
       "      <td>desktop</td>\n",
       "      <td>online data analytic</td>\n",
       "    </tr>\n",
       "    <tr>\n",
       "      <th>...</th>\n",
       "      <td>...</td>\n",
       "      <td>...</td>\n",
       "      <td>...</td>\n",
       "      <td>...</td>\n",
       "      <td>...</td>\n",
       "      <td>...</td>\n",
       "      <td>...</td>\n",
       "      <td>...</td>\n",
       "      <td>...</td>\n",
       "      <td>...</td>\n",
       "      <td>...</td>\n",
       "      <td>...</td>\n",
       "      <td>...</td>\n",
       "    </tr>\n",
       "    <tr>\n",
       "      <th>2595</th>\n",
       "      <td>A3595</td>\n",
       "      <td>Data Analytics Course</td>\n",
       "      <td>88.0</td>\n",
       "      <td>5344.0</td>\n",
       "      <td>$242.07</td>\n",
       "      <td>17.0</td>\n",
       "      <td>9.0</td>\n",
       "      <td>0.054</td>\n",
       "      <td>$1418</td>\n",
       "      <td>2024-11-29</td>\n",
       "      <td>Hyderabad</td>\n",
       "      <td>mobile</td>\n",
       "      <td>online data analytic</td>\n",
       "    </tr>\n",
       "    <tr>\n",
       "      <th>2596</th>\n",
       "      <td>A3596</td>\n",
       "      <td>Data Analytics Course</td>\n",
       "      <td>154.0</td>\n",
       "      <td>3211.0</td>\n",
       "      <td>$248.28</td>\n",
       "      <td>14.0</td>\n",
       "      <td>6.0</td>\n",
       "      <td>0.039</td>\n",
       "      <td>$1950</td>\n",
       "      <td>2024-11-28</td>\n",
       "      <td>Hyderabad</td>\n",
       "      <td>tablet</td>\n",
       "      <td>data analitics online</td>\n",
       "    </tr>\n",
       "    <tr>\n",
       "      <th>2597</th>\n",
       "      <td>A3597</td>\n",
       "      <td>Data Analytics Course</td>\n",
       "      <td>113.0</td>\n",
       "      <td>3808.0</td>\n",
       "      <td>$233.25</td>\n",
       "      <td>18.0</td>\n",
       "      <td>4.0</td>\n",
       "      <td>0.035</td>\n",
       "      <td>$1085</td>\n",
       "      <td>2024-11-02</td>\n",
       "      <td>Hyderabad</td>\n",
       "      <td>desktop</td>\n",
       "      <td>data anaytics training</td>\n",
       "    </tr>\n",
       "    <tr>\n",
       "      <th>2598</th>\n",
       "      <td>A3598</td>\n",
       "      <td>Data Analytics Course</td>\n",
       "      <td>196.0</td>\n",
       "      <td>5853.0</td>\n",
       "      <td>$220.13</td>\n",
       "      <td>16.0</td>\n",
       "      <td>7.0</td>\n",
       "      <td>0.036</td>\n",
       "      <td>$1558</td>\n",
       "      <td>2024-11-08</td>\n",
       "      <td>Hyderabad</td>\n",
       "      <td>tablet</td>\n",
       "      <td>data anaytics training</td>\n",
       "    </tr>\n",
       "    <tr>\n",
       "      <th>2599</th>\n",
       "      <td>A3599</td>\n",
       "      <td>Data Analytics Course</td>\n",
       "      <td>NaN</td>\n",
       "      <td>5453.0</td>\n",
       "      <td>NaN</td>\n",
       "      <td>12.0</td>\n",
       "      <td>5.0</td>\n",
       "      <td>NaN</td>\n",
       "      <td>$1174</td>\n",
       "      <td>2024-11-22</td>\n",
       "      <td>Hyderabad</td>\n",
       "      <td>desktop</td>\n",
       "      <td>analytics for data</td>\n",
       "    </tr>\n",
       "  </tbody>\n",
       "</table>\n",
       "<p>2600 rows × 13 columns</p>\n",
       "</div>"
      ],
      "text/plain": [
       "      Ad_ID          Campaign_Name  Clicks  Impressions     Cost  Leads  \\\n",
       "0     A1000  Data Analytics Course   104.0       4498.0  $231.88   14.0   \n",
       "1     A1001  Data Analytics Course   173.0       5107.0  $216.84   10.0   \n",
       "2     A1002  Data Analytics Course    90.0       4544.0  $203.66   26.0   \n",
       "3     A1003  Data Analytics Course   142.0       3185.0  $237.66   17.0   \n",
       "4     A1004  Data Analytics Course   156.0       3361.0   $195.9   30.0   \n",
       "...     ...                    ...     ...          ...      ...    ...   \n",
       "2595  A3595  Data Analytics Course    88.0       5344.0  $242.07   17.0   \n",
       "2596  A3596  Data Analytics Course   154.0       3211.0  $248.28   14.0   \n",
       "2597  A3597  Data Analytics Course   113.0       3808.0  $233.25   18.0   \n",
       "2598  A3598  Data Analytics Course   196.0       5853.0  $220.13   16.0   \n",
       "2599  A3599  Data Analytics Course     NaN       5453.0      NaN   12.0   \n",
       "\n",
       "      Conversions  Conversion_Rate Sales_Amount    Ad_Date   Location  \\\n",
       "0             7.0            0.058        $1892 2024-11-16  Hyderabad   \n",
       "1             8.0            0.046        $1679 2024-11-20  Hyderabad   \n",
       "2             9.0              NaN        $1624 2024-11-16  Hyderabad   \n",
       "3             6.0              NaN        $1225 2024-11-26  Hyderabad   \n",
       "4             8.0              NaN        $1091 2024-11-22  Hyderabad   \n",
       "...           ...              ...          ...        ...        ...   \n",
       "2595          9.0            0.054        $1418 2024-11-29  Hyderabad   \n",
       "2596          6.0            0.039        $1950 2024-11-28  Hyderabad   \n",
       "2597          4.0            0.035        $1085 2024-11-02  Hyderabad   \n",
       "2598          7.0            0.036        $1558 2024-11-08  Hyderabad   \n",
       "2599          5.0              NaN        $1174 2024-11-22  Hyderabad   \n",
       "\n",
       "       Device                 Keyword  \n",
       "0     desktop    learn data analytics  \n",
       "1      mobile   data analytics course  \n",
       "2     desktop   data analitics online  \n",
       "3      tablet  data anaytics training  \n",
       "4     desktop    online data analytic  \n",
       "...       ...                     ...  \n",
       "2595   mobile    online data analytic  \n",
       "2596   tablet   data analitics online  \n",
       "2597  desktop  data anaytics training  \n",
       "2598   tablet  data anaytics training  \n",
       "2599  desktop      analytics for data  \n",
       "\n",
       "[2600 rows x 13 columns]"
      ]
     },
     "execution_count": 13,
     "metadata": {},
     "output_type": "execute_result"
    }
   ],
   "source": [
    "df"
   ]
  },
  {
   "cell_type": "code",
   "execution_count": 14,
   "id": "d59d5523",
   "metadata": {
    "execution": {
     "iopub.execute_input": "2025-08-18T00:26:36.137369Z",
     "iopub.status.busy": "2025-08-18T00:26:36.136984Z",
     "iopub.status.idle": "2025-08-18T00:26:36.266053Z",
     "shell.execute_reply": "2025-08-18T00:26:36.265096Z"
    },
    "executionInfo": {
     "elapsed": 8,
     "status": "ok",
     "timestamp": 1755056720879,
     "user": {
      "displayName": "Ahsan Mubarak",
      "userId": "13952536471194166156"
     },
     "user_tz": -420
    },
    "id": "Pmb7LwsygMIG",
    "papermill": {
     "duration": 0.145475,
     "end_time": "2025-08-18T00:26:36.267947",
     "exception": false,
     "start_time": "2025-08-18T00:26:36.122472",
     "status": "completed"
    },
    "tags": []
   },
   "outputs": [],
   "source": [
    "df['Conversion_Rate'] = df.apply(\n",
    "    lambda row: (row['Conversions'] / row['Clicks']) * 100 if pd.isnull(row['Conversion_Rate']) else row['Conversion_Rate'] * 100,\n",
    "    axis=1\n",
    ")"
   ]
  },
  {
   "cell_type": "code",
   "execution_count": 15,
   "id": "8867cf4f",
   "metadata": {
    "execution": {
     "iopub.execute_input": "2025-08-18T00:26:36.294600Z",
     "iopub.status.busy": "2025-08-18T00:26:36.294321Z",
     "iopub.status.idle": "2025-08-18T00:26:36.303853Z",
     "shell.execute_reply": "2025-08-18T00:26:36.302627Z"
    },
    "executionInfo": {
     "elapsed": 62,
     "status": "ok",
     "timestamp": 1755056720944,
     "user": {
      "displayName": "Ahsan Mubarak",
      "userId": "13952536471194166156"
     },
     "user_tz": -420
    },
    "id": "9sl_83z9iCnE",
    "outputId": "76cee0e6-db54-4bb6-db96-8e3d18a47974",
    "papermill": {
     "duration": 0.025083,
     "end_time": "2025-08-18T00:26:36.305723",
     "exception": false,
     "start_time": "2025-08-18T00:26:36.280640",
     "status": "completed"
    },
    "tags": []
   },
   "outputs": [
    {
     "data": {
      "text/plain": [
       "Ad_ID                0\n",
       "Campaign_Name        0\n",
       "Clicks             112\n",
       "Impressions         54\n",
       "Cost                97\n",
       "Leads               48\n",
       "Conversions         74\n",
       "Conversion_Rate    153\n",
       "Sales_Amount       139\n",
       "Ad_Date              0\n",
       "Location             0\n",
       "Device               0\n",
       "Keyword              0\n",
       "dtype: int64"
      ]
     },
     "execution_count": 15,
     "metadata": {},
     "output_type": "execute_result"
    }
   ],
   "source": [
    "df.isna().sum()"
   ]
  },
  {
   "cell_type": "code",
   "execution_count": 16,
   "id": "8d205501",
   "metadata": {
    "execution": {
     "iopub.execute_input": "2025-08-18T00:26:36.331378Z",
     "iopub.status.busy": "2025-08-18T00:26:36.331064Z",
     "iopub.status.idle": "2025-08-18T00:26:36.347457Z",
     "shell.execute_reply": "2025-08-18T00:26:36.346185Z"
    },
    "executionInfo": {
     "elapsed": 10,
     "status": "ok",
     "timestamp": 1755056720947,
     "user": {
      "displayName": "Ahsan Mubarak",
      "userId": "13952536471194166156"
     },
     "user_tz": -420
    },
    "id": "BirUxLRskvGl",
    "papermill": {
     "duration": 0.031641,
     "end_time": "2025-08-18T00:26:36.349642",
     "exception": false,
     "start_time": "2025-08-18T00:26:36.318001",
     "status": "completed"
    },
    "tags": []
   },
   "outputs": [],
   "source": [
    "df['Sales_Amount'] = df['Sales_Amount'].astype(str).str.replace('$', '', regex=False)\n",
    "df['Cost'] = df['Cost'].astype(str).str.replace('$', '', regex=False)\n",
    "\n",
    "df['Sales_Amount'] = pd.to_numeric(df['Sales_Amount'], errors='coerce')\n",
    "df['Cost'] = pd.to_numeric(df['Cost'], errors='coerce')\n",
    "\n",
    "df['Sales_Amount'] = df['Sales_Amount'].fillna(df['Sales_Amount'].mean())\n",
    "df['Cost'] = df['Cost'].fillna(df['Cost'].mean())\n",
    "\n",
    "df['Sales_Amount'] = df['Sales_Amount'].astype(float)\n",
    "df['Cost'] = df['Cost'].astype(float)"
   ]
  },
  {
   "cell_type": "code",
   "execution_count": 17,
   "id": "9ed37b42",
   "metadata": {
    "execution": {
     "iopub.execute_input": "2025-08-18T00:26:36.378600Z",
     "iopub.status.busy": "2025-08-18T00:26:36.378212Z",
     "iopub.status.idle": "2025-08-18T00:26:36.394596Z",
     "shell.execute_reply": "2025-08-18T00:26:36.393532Z"
    },
    "executionInfo": {
     "elapsed": 9,
     "status": "ok",
     "timestamp": 1755056720949,
     "user": {
      "displayName": "Ahsan Mubarak",
      "userId": "13952536471194166156"
     },
     "user_tz": -420
    },
    "id": "iZCuC0rqiWWp",
    "papermill": {
     "duration": 0.03401,
     "end_time": "2025-08-18T00:26:36.396356",
     "exception": false,
     "start_time": "2025-08-18T00:26:36.362346",
     "status": "completed"
    },
    "tags": []
   },
   "outputs": [],
   "source": [
    "columns_to_fill = ['Clicks', 'Impressions', 'Leads', 'Conversions', 'Conversion_Rate']\n",
    "\n",
    "df[columns_to_fill] = df[columns_to_fill].apply(pd.to_numeric, errors='coerce')\n",
    "\n",
    "df[columns_to_fill] = df[columns_to_fill].fillna(df[columns_to_fill].mean())\n",
    "\n",
    "df[['Clicks', 'Impressions', 'Leads', 'Conversions']] = df[['Clicks', 'Impressions', 'Leads', 'Conversions']].astype(int)"
   ]
  },
  {
   "cell_type": "code",
   "execution_count": 18,
   "id": "b6820f5c",
   "metadata": {
    "execution": {
     "iopub.execute_input": "2025-08-18T00:26:36.423630Z",
     "iopub.status.busy": "2025-08-18T00:26:36.423295Z",
     "iopub.status.idle": "2025-08-18T00:26:36.434377Z",
     "shell.execute_reply": "2025-08-18T00:26:36.433132Z"
    },
    "executionInfo": {
     "elapsed": 15,
     "status": "ok",
     "timestamp": 1755056720966,
     "user": {
      "displayName": "Ahsan Mubarak",
      "userId": "13952536471194166156"
     },
     "user_tz": -420
    },
    "id": "swo2_9EDnB2Y",
    "outputId": "ae1baf9e-fcc4-4e2b-efbd-9491b720764d",
    "papermill": {
     "duration": 0.027086,
     "end_time": "2025-08-18T00:26:36.436347",
     "exception": false,
     "start_time": "2025-08-18T00:26:36.409261",
     "status": "completed"
    },
    "tags": []
   },
   "outputs": [
    {
     "data": {
      "text/plain": [
       "Ad_ID              0\n",
       "Campaign_Name      0\n",
       "Clicks             0\n",
       "Impressions        0\n",
       "Cost               0\n",
       "Leads              0\n",
       "Conversions        0\n",
       "Conversion_Rate    0\n",
       "Sales_Amount       0\n",
       "Ad_Date            0\n",
       "Location           0\n",
       "Device             0\n",
       "Keyword            0\n",
       "dtype: int64"
      ]
     },
     "execution_count": 18,
     "metadata": {},
     "output_type": "execute_result"
    }
   ],
   "source": [
    "df.isna().sum()"
   ]
  },
  {
   "cell_type": "code",
   "execution_count": 19,
   "id": "c926ec6d",
   "metadata": {
    "execution": {
     "iopub.execute_input": "2025-08-18T00:26:36.462926Z",
     "iopub.status.busy": "2025-08-18T00:26:36.462580Z",
     "iopub.status.idle": "2025-08-18T00:26:36.475441Z",
     "shell.execute_reply": "2025-08-18T00:26:36.474445Z"
    },
    "executionInfo": {
     "elapsed": 24,
     "status": "ok",
     "timestamp": 1755056720993,
     "user": {
      "displayName": "Ahsan Mubarak",
      "userId": "13952536471194166156"
     },
     "user_tz": -420
    },
    "id": "SlRzcQqMYZPU",
    "outputId": "6c6ca74f-fd0d-4824-d646-e78a171d1c8e",
    "papermill": {
     "duration": 0.02799,
     "end_time": "2025-08-18T00:26:36.477187",
     "exception": false,
     "start_time": "2025-08-18T00:26:36.449197",
     "status": "completed"
    },
    "tags": []
   },
   "outputs": [
    {
     "data": {
      "text/plain": [
       "0"
      ]
     },
     "execution_count": 19,
     "metadata": {},
     "output_type": "execute_result"
    }
   ],
   "source": [
    "df.duplicated().sum()"
   ]
  },
  {
   "cell_type": "markdown",
   "id": "2661297d",
   "metadata": {
    "papermill": {
     "duration": 0.013223,
     "end_time": "2025-08-18T00:26:36.503818",
     "exception": false,
     "start_time": "2025-08-18T00:26:36.490595",
     "status": "completed"
    },
    "tags": []
   },
   "source": [
    "**Exploratory Data analyst (EDA)**"
   ]
  },
  {
   "cell_type": "code",
   "execution_count": 20,
   "id": "09ba439b",
   "metadata": {
    "execution": {
     "iopub.execute_input": "2025-08-18T00:26:36.531107Z",
     "iopub.status.busy": "2025-08-18T00:26:36.529777Z",
     "iopub.status.idle": "2025-08-18T00:26:36.538885Z",
     "shell.execute_reply": "2025-08-18T00:26:36.537849Z"
    },
    "executionInfo": {
     "elapsed": 14,
     "status": "ok",
     "timestamp": 1755056720995,
     "user": {
      "displayName": "Ahsan Mubarak",
      "userId": "13952536471194166156"
     },
     "user_tz": -420
    },
    "id": "7gYbHlU5dL3C",
    "outputId": "f7bad0b2-4c8a-4a92-8a12-a2d7909c0454",
    "papermill": {
     "duration": 0.024424,
     "end_time": "2025-08-18T00:26:36.540628",
     "exception": false,
     "start_time": "2025-08-18T00:26:36.516204",
     "status": "completed"
    },
    "tags": []
   },
   "outputs": [
    {
     "data": {
      "text/plain": [
       "min   2024-11-01\n",
       "max   2024-11-30\n",
       "Name: Ad_Date, dtype: datetime64[ns]"
      ]
     },
     "execution_count": 20,
     "metadata": {},
     "output_type": "execute_result"
    }
   ],
   "source": [
    "df['Ad_Date'].agg(['min', 'max'])"
   ]
  },
  {
   "cell_type": "code",
   "execution_count": 21,
   "id": "39e4407e",
   "metadata": {
    "execution": {
     "iopub.execute_input": "2025-08-18T00:26:36.569035Z",
     "iopub.status.busy": "2025-08-18T00:26:36.568648Z",
     "iopub.status.idle": "2025-08-18T00:26:36.587739Z",
     "shell.execute_reply": "2025-08-18T00:26:36.586628Z"
    },
    "executionInfo": {
     "elapsed": 43,
     "status": "ok",
     "timestamp": 1755056721035,
     "user": {
      "displayName": "Ahsan Mubarak",
      "userId": "13952536471194166156"
     },
     "user_tz": -420
    },
    "id": "L65tHL_8eiuO",
    "outputId": "bcba2fef-12a8-439e-cbc6-0053bd5f0342",
    "papermill": {
     "duration": 0.035832,
     "end_time": "2025-08-18T00:26:36.589564",
     "exception": false,
     "start_time": "2025-08-18T00:26:36.553732",
     "status": "completed"
    },
    "tags": []
   },
   "outputs": [
    {
     "data": {
      "text/html": [
       "<div>\n",
       "<style scoped>\n",
       "    .dataframe tbody tr th:only-of-type {\n",
       "        vertical-align: middle;\n",
       "    }\n",
       "\n",
       "    .dataframe tbody tr th {\n",
       "        vertical-align: top;\n",
       "    }\n",
       "\n",
       "    .dataframe thead th {\n",
       "        text-align: right;\n",
       "    }\n",
       "</style>\n",
       "<table border=\"1\" class=\"dataframe\">\n",
       "  <thead>\n",
       "    <tr style=\"text-align: right;\">\n",
       "      <th></th>\n",
       "      <th>Ad_ID</th>\n",
       "      <th>Campaign_Name</th>\n",
       "      <th>Clicks</th>\n",
       "      <th>Impressions</th>\n",
       "      <th>Cost</th>\n",
       "      <th>Leads</th>\n",
       "      <th>Conversions</th>\n",
       "      <th>Conversion_Rate</th>\n",
       "      <th>Sales_Amount</th>\n",
       "      <th>Ad_Date</th>\n",
       "      <th>Location</th>\n",
       "      <th>Device</th>\n",
       "      <th>Keyword</th>\n",
       "    </tr>\n",
       "  </thead>\n",
       "  <tbody>\n",
       "    <tr>\n",
       "      <th>0</th>\n",
       "      <td>A1000</td>\n",
       "      <td>Data Analytics Course</td>\n",
       "      <td>104</td>\n",
       "      <td>4498</td>\n",
       "      <td>231.880000</td>\n",
       "      <td>14</td>\n",
       "      <td>7</td>\n",
       "      <td>5.800000</td>\n",
       "      <td>1892.0</td>\n",
       "      <td>2024-11-16</td>\n",
       "      <td>Hyderabad</td>\n",
       "      <td>desktop</td>\n",
       "      <td>learn data analytics</td>\n",
       "    </tr>\n",
       "    <tr>\n",
       "      <th>1</th>\n",
       "      <td>A1001</td>\n",
       "      <td>Data Analytics Course</td>\n",
       "      <td>173</td>\n",
       "      <td>5107</td>\n",
       "      <td>216.840000</td>\n",
       "      <td>10</td>\n",
       "      <td>8</td>\n",
       "      <td>4.600000</td>\n",
       "      <td>1679.0</td>\n",
       "      <td>2024-11-20</td>\n",
       "      <td>Hyderabad</td>\n",
       "      <td>mobile</td>\n",
       "      <td>data analytics course</td>\n",
       "    </tr>\n",
       "    <tr>\n",
       "      <th>2</th>\n",
       "      <td>A1002</td>\n",
       "      <td>Data Analytics Course</td>\n",
       "      <td>90</td>\n",
       "      <td>4544</td>\n",
       "      <td>203.660000</td>\n",
       "      <td>26</td>\n",
       "      <td>9</td>\n",
       "      <td>10.000000</td>\n",
       "      <td>1624.0</td>\n",
       "      <td>2024-11-16</td>\n",
       "      <td>Hyderabad</td>\n",
       "      <td>desktop</td>\n",
       "      <td>data analitics online</td>\n",
       "    </tr>\n",
       "    <tr>\n",
       "      <th>3</th>\n",
       "      <td>A1003</td>\n",
       "      <td>Data Analytics Course</td>\n",
       "      <td>142</td>\n",
       "      <td>3185</td>\n",
       "      <td>237.660000</td>\n",
       "      <td>17</td>\n",
       "      <td>6</td>\n",
       "      <td>4.225352</td>\n",
       "      <td>1225.0</td>\n",
       "      <td>2024-11-26</td>\n",
       "      <td>Hyderabad</td>\n",
       "      <td>tablet</td>\n",
       "      <td>data anaytics training</td>\n",
       "    </tr>\n",
       "    <tr>\n",
       "      <th>4</th>\n",
       "      <td>A1004</td>\n",
       "      <td>Data Analytics Course</td>\n",
       "      <td>156</td>\n",
       "      <td>3361</td>\n",
       "      <td>195.900000</td>\n",
       "      <td>30</td>\n",
       "      <td>8</td>\n",
       "      <td>5.128205</td>\n",
       "      <td>1091.0</td>\n",
       "      <td>2024-11-22</td>\n",
       "      <td>Hyderabad</td>\n",
       "      <td>desktop</td>\n",
       "      <td>online data analytic</td>\n",
       "    </tr>\n",
       "    <tr>\n",
       "      <th>...</th>\n",
       "      <td>...</td>\n",
       "      <td>...</td>\n",
       "      <td>...</td>\n",
       "      <td>...</td>\n",
       "      <td>...</td>\n",
       "      <td>...</td>\n",
       "      <td>...</td>\n",
       "      <td>...</td>\n",
       "      <td>...</td>\n",
       "      <td>...</td>\n",
       "      <td>...</td>\n",
       "      <td>...</td>\n",
       "      <td>...</td>\n",
       "    </tr>\n",
       "    <tr>\n",
       "      <th>2595</th>\n",
       "      <td>A3595</td>\n",
       "      <td>Data Analytics Course</td>\n",
       "      <td>88</td>\n",
       "      <td>5344</td>\n",
       "      <td>242.070000</td>\n",
       "      <td>17</td>\n",
       "      <td>9</td>\n",
       "      <td>5.400000</td>\n",
       "      <td>1418.0</td>\n",
       "      <td>2024-11-29</td>\n",
       "      <td>Hyderabad</td>\n",
       "      <td>mobile</td>\n",
       "      <td>online data analytic</td>\n",
       "    </tr>\n",
       "    <tr>\n",
       "      <th>2596</th>\n",
       "      <td>A3596</td>\n",
       "      <td>Data Analytics Course</td>\n",
       "      <td>154</td>\n",
       "      <td>3211</td>\n",
       "      <td>248.280000</td>\n",
       "      <td>14</td>\n",
       "      <td>6</td>\n",
       "      <td>3.900000</td>\n",
       "      <td>1950.0</td>\n",
       "      <td>2024-11-28</td>\n",
       "      <td>Hyderabad</td>\n",
       "      <td>tablet</td>\n",
       "      <td>data analitics online</td>\n",
       "    </tr>\n",
       "    <tr>\n",
       "      <th>2597</th>\n",
       "      <td>A3597</td>\n",
       "      <td>Data Analytics Course</td>\n",
       "      <td>113</td>\n",
       "      <td>3808</td>\n",
       "      <td>233.250000</td>\n",
       "      <td>18</td>\n",
       "      <td>4</td>\n",
       "      <td>3.500000</td>\n",
       "      <td>1085.0</td>\n",
       "      <td>2024-11-02</td>\n",
       "      <td>Hyderabad</td>\n",
       "      <td>desktop</td>\n",
       "      <td>data anaytics training</td>\n",
       "    </tr>\n",
       "    <tr>\n",
       "      <th>2598</th>\n",
       "      <td>A3598</td>\n",
       "      <td>Data Analytics Course</td>\n",
       "      <td>196</td>\n",
       "      <td>5853</td>\n",
       "      <td>220.130000</td>\n",
       "      <td>16</td>\n",
       "      <td>7</td>\n",
       "      <td>3.600000</td>\n",
       "      <td>1558.0</td>\n",
       "      <td>2024-11-08</td>\n",
       "      <td>Hyderabad</td>\n",
       "      <td>tablet</td>\n",
       "      <td>data anaytics training</td>\n",
       "    </tr>\n",
       "    <tr>\n",
       "      <th>2599</th>\n",
       "      <td>A3599</td>\n",
       "      <td>Data Analytics Course</td>\n",
       "      <td>138</td>\n",
       "      <td>5453</td>\n",
       "      <td>215.090623</td>\n",
       "      <td>12</td>\n",
       "      <td>5</td>\n",
       "      <td>4.943533</td>\n",
       "      <td>1174.0</td>\n",
       "      <td>2024-11-22</td>\n",
       "      <td>Hyderabad</td>\n",
       "      <td>desktop</td>\n",
       "      <td>analytics for data</td>\n",
       "    </tr>\n",
       "  </tbody>\n",
       "</table>\n",
       "<p>2600 rows × 13 columns</p>\n",
       "</div>"
      ],
      "text/plain": [
       "      Ad_ID          Campaign_Name  Clicks  Impressions        Cost  Leads  \\\n",
       "0     A1000  Data Analytics Course     104         4498  231.880000     14   \n",
       "1     A1001  Data Analytics Course     173         5107  216.840000     10   \n",
       "2     A1002  Data Analytics Course      90         4544  203.660000     26   \n",
       "3     A1003  Data Analytics Course     142         3185  237.660000     17   \n",
       "4     A1004  Data Analytics Course     156         3361  195.900000     30   \n",
       "...     ...                    ...     ...          ...         ...    ...   \n",
       "2595  A3595  Data Analytics Course      88         5344  242.070000     17   \n",
       "2596  A3596  Data Analytics Course     154         3211  248.280000     14   \n",
       "2597  A3597  Data Analytics Course     113         3808  233.250000     18   \n",
       "2598  A3598  Data Analytics Course     196         5853  220.130000     16   \n",
       "2599  A3599  Data Analytics Course     138         5453  215.090623     12   \n",
       "\n",
       "      Conversions  Conversion_Rate  Sales_Amount    Ad_Date   Location  \\\n",
       "0               7         5.800000        1892.0 2024-11-16  Hyderabad   \n",
       "1               8         4.600000        1679.0 2024-11-20  Hyderabad   \n",
       "2               9        10.000000        1624.0 2024-11-16  Hyderabad   \n",
       "3               6         4.225352        1225.0 2024-11-26  Hyderabad   \n",
       "4               8         5.128205        1091.0 2024-11-22  Hyderabad   \n",
       "...           ...              ...           ...        ...        ...   \n",
       "2595            9         5.400000        1418.0 2024-11-29  Hyderabad   \n",
       "2596            6         3.900000        1950.0 2024-11-28  Hyderabad   \n",
       "2597            4         3.500000        1085.0 2024-11-02  Hyderabad   \n",
       "2598            7         3.600000        1558.0 2024-11-08  Hyderabad   \n",
       "2599            5         4.943533        1174.0 2024-11-22  Hyderabad   \n",
       "\n",
       "       Device                 Keyword  \n",
       "0     desktop    learn data analytics  \n",
       "1      mobile   data analytics course  \n",
       "2     desktop   data analitics online  \n",
       "3      tablet  data anaytics training  \n",
       "4     desktop    online data analytic  \n",
       "...       ...                     ...  \n",
       "2595   mobile    online data analytic  \n",
       "2596   tablet   data analitics online  \n",
       "2597  desktop  data anaytics training  \n",
       "2598   tablet  data anaytics training  \n",
       "2599  desktop      analytics for data  \n",
       "\n",
       "[2600 rows x 13 columns]"
      ]
     },
     "execution_count": 21,
     "metadata": {},
     "output_type": "execute_result"
    }
   ],
   "source": [
    "df"
   ]
  },
  {
   "cell_type": "code",
   "execution_count": 22,
   "id": "508490ef",
   "metadata": {
    "execution": {
     "iopub.execute_input": "2025-08-18T00:26:36.617540Z",
     "iopub.status.busy": "2025-08-18T00:26:36.617216Z",
     "iopub.status.idle": "2025-08-18T00:26:36.640513Z",
     "shell.execute_reply": "2025-08-18T00:26:36.638923Z"
    },
    "executionInfo": {
     "elapsed": 63,
     "status": "ok",
     "timestamp": 1755056721099,
     "user": {
      "displayName": "Ahsan Mubarak",
      "userId": "13952536471194166156"
     },
     "user_tz": -420
    },
    "id": "IEu0-RDcc_G6",
    "outputId": "e6675a90-4c7b-4df3-b6e3-a31bc73e6ebd",
    "papermill": {
     "duration": 0.038999,
     "end_time": "2025-08-18T00:26:36.642426",
     "exception": false,
     "start_time": "2025-08-18T00:26:36.603427",
     "status": "completed"
    },
    "tags": []
   },
   "outputs": [
    {
     "data": {
      "text/html": [
       "<div>\n",
       "<style scoped>\n",
       "    .dataframe tbody tr th:only-of-type {\n",
       "        vertical-align: middle;\n",
       "    }\n",
       "\n",
       "    .dataframe tbody tr th {\n",
       "        vertical-align: top;\n",
       "    }\n",
       "\n",
       "    .dataframe thead th {\n",
       "        text-align: right;\n",
       "    }\n",
       "</style>\n",
       "<table border=\"1\" class=\"dataframe\">\n",
       "  <thead>\n",
       "    <tr style=\"text-align: right;\">\n",
       "      <th></th>\n",
       "      <th>Ad_ID</th>\n",
       "      <th>Campaign_Name</th>\n",
       "      <th>Clicks</th>\n",
       "      <th>Impressions</th>\n",
       "      <th>Cost</th>\n",
       "      <th>Leads</th>\n",
       "      <th>Conversions</th>\n",
       "      <th>Conversion_Rate</th>\n",
       "      <th>Sales_Amount</th>\n",
       "      <th>Ad_Date</th>\n",
       "      <th>Location</th>\n",
       "      <th>Device</th>\n",
       "      <th>Keyword</th>\n",
       "      <th>ROI</th>\n",
       "    </tr>\n",
       "  </thead>\n",
       "  <tbody>\n",
       "    <tr>\n",
       "      <th>0</th>\n",
       "      <td>A1000</td>\n",
       "      <td>Data Analytics Course</td>\n",
       "      <td>104</td>\n",
       "      <td>4498</td>\n",
       "      <td>231.880000</td>\n",
       "      <td>14</td>\n",
       "      <td>7</td>\n",
       "      <td>5.800000</td>\n",
       "      <td>1892.0</td>\n",
       "      <td>2024-11-16</td>\n",
       "      <td>Hyderabad</td>\n",
       "      <td>desktop</td>\n",
       "      <td>learn data analytics</td>\n",
       "      <td>7.159393</td>\n",
       "    </tr>\n",
       "    <tr>\n",
       "      <th>1</th>\n",
       "      <td>A1001</td>\n",
       "      <td>Data Analytics Course</td>\n",
       "      <td>173</td>\n",
       "      <td>5107</td>\n",
       "      <td>216.840000</td>\n",
       "      <td>10</td>\n",
       "      <td>8</td>\n",
       "      <td>4.600000</td>\n",
       "      <td>1679.0</td>\n",
       "      <td>2024-11-20</td>\n",
       "      <td>Hyderabad</td>\n",
       "      <td>mobile</td>\n",
       "      <td>data analytics course</td>\n",
       "      <td>6.743036</td>\n",
       "    </tr>\n",
       "    <tr>\n",
       "      <th>2</th>\n",
       "      <td>A1002</td>\n",
       "      <td>Data Analytics Course</td>\n",
       "      <td>90</td>\n",
       "      <td>4544</td>\n",
       "      <td>203.660000</td>\n",
       "      <td>26</td>\n",
       "      <td>9</td>\n",
       "      <td>10.000000</td>\n",
       "      <td>1624.0</td>\n",
       "      <td>2024-11-16</td>\n",
       "      <td>Hyderabad</td>\n",
       "      <td>desktop</td>\n",
       "      <td>data analitics online</td>\n",
       "      <td>6.974074</td>\n",
       "    </tr>\n",
       "    <tr>\n",
       "      <th>3</th>\n",
       "      <td>A1003</td>\n",
       "      <td>Data Analytics Course</td>\n",
       "      <td>142</td>\n",
       "      <td>3185</td>\n",
       "      <td>237.660000</td>\n",
       "      <td>17</td>\n",
       "      <td>6</td>\n",
       "      <td>4.225352</td>\n",
       "      <td>1225.0</td>\n",
       "      <td>2024-11-26</td>\n",
       "      <td>Hyderabad</td>\n",
       "      <td>tablet</td>\n",
       "      <td>data anaytics training</td>\n",
       "      <td>4.154422</td>\n",
       "    </tr>\n",
       "    <tr>\n",
       "      <th>4</th>\n",
       "      <td>A1004</td>\n",
       "      <td>Data Analytics Course</td>\n",
       "      <td>156</td>\n",
       "      <td>3361</td>\n",
       "      <td>195.900000</td>\n",
       "      <td>30</td>\n",
       "      <td>8</td>\n",
       "      <td>5.128205</td>\n",
       "      <td>1091.0</td>\n",
       "      <td>2024-11-22</td>\n",
       "      <td>Hyderabad</td>\n",
       "      <td>desktop</td>\n",
       "      <td>online data analytic</td>\n",
       "      <td>4.569168</td>\n",
       "    </tr>\n",
       "    <tr>\n",
       "      <th>...</th>\n",
       "      <td>...</td>\n",
       "      <td>...</td>\n",
       "      <td>...</td>\n",
       "      <td>...</td>\n",
       "      <td>...</td>\n",
       "      <td>...</td>\n",
       "      <td>...</td>\n",
       "      <td>...</td>\n",
       "      <td>...</td>\n",
       "      <td>...</td>\n",
       "      <td>...</td>\n",
       "      <td>...</td>\n",
       "      <td>...</td>\n",
       "      <td>...</td>\n",
       "    </tr>\n",
       "    <tr>\n",
       "      <th>2595</th>\n",
       "      <td>A3595</td>\n",
       "      <td>Data Analytics Course</td>\n",
       "      <td>88</td>\n",
       "      <td>5344</td>\n",
       "      <td>242.070000</td>\n",
       "      <td>17</td>\n",
       "      <td>9</td>\n",
       "      <td>5.400000</td>\n",
       "      <td>1418.0</td>\n",
       "      <td>2024-11-29</td>\n",
       "      <td>Hyderabad</td>\n",
       "      <td>mobile</td>\n",
       "      <td>online data analytic</td>\n",
       "      <td>4.857810</td>\n",
       "    </tr>\n",
       "    <tr>\n",
       "      <th>2596</th>\n",
       "      <td>A3596</td>\n",
       "      <td>Data Analytics Course</td>\n",
       "      <td>154</td>\n",
       "      <td>3211</td>\n",
       "      <td>248.280000</td>\n",
       "      <td>14</td>\n",
       "      <td>6</td>\n",
       "      <td>3.900000</td>\n",
       "      <td>1950.0</td>\n",
       "      <td>2024-11-28</td>\n",
       "      <td>Hyderabad</td>\n",
       "      <td>tablet</td>\n",
       "      <td>data analitics online</td>\n",
       "      <td>6.854036</td>\n",
       "    </tr>\n",
       "    <tr>\n",
       "      <th>2597</th>\n",
       "      <td>A3597</td>\n",
       "      <td>Data Analytics Course</td>\n",
       "      <td>113</td>\n",
       "      <td>3808</td>\n",
       "      <td>233.250000</td>\n",
       "      <td>18</td>\n",
       "      <td>4</td>\n",
       "      <td>3.500000</td>\n",
       "      <td>1085.0</td>\n",
       "      <td>2024-11-02</td>\n",
       "      <td>Hyderabad</td>\n",
       "      <td>desktop</td>\n",
       "      <td>data anaytics training</td>\n",
       "      <td>3.651661</td>\n",
       "    </tr>\n",
       "    <tr>\n",
       "      <th>2598</th>\n",
       "      <td>A3598</td>\n",
       "      <td>Data Analytics Course</td>\n",
       "      <td>196</td>\n",
       "      <td>5853</td>\n",
       "      <td>220.130000</td>\n",
       "      <td>16</td>\n",
       "      <td>7</td>\n",
       "      <td>3.600000</td>\n",
       "      <td>1558.0</td>\n",
       "      <td>2024-11-08</td>\n",
       "      <td>Hyderabad</td>\n",
       "      <td>tablet</td>\n",
       "      <td>data anaytics training</td>\n",
       "      <td>6.077636</td>\n",
       "    </tr>\n",
       "    <tr>\n",
       "      <th>2599</th>\n",
       "      <td>A3599</td>\n",
       "      <td>Data Analytics Course</td>\n",
       "      <td>138</td>\n",
       "      <td>5453</td>\n",
       "      <td>215.090623</td>\n",
       "      <td>12</td>\n",
       "      <td>5</td>\n",
       "      <td>4.943533</td>\n",
       "      <td>1174.0</td>\n",
       "      <td>2024-11-22</td>\n",
       "      <td>Hyderabad</td>\n",
       "      <td>desktop</td>\n",
       "      <td>analytics for data</td>\n",
       "      <td>4.458164</td>\n",
       "    </tr>\n",
       "  </tbody>\n",
       "</table>\n",
       "<p>2600 rows × 14 columns</p>\n",
       "</div>"
      ],
      "text/plain": [
       "      Ad_ID          Campaign_Name  Clicks  Impressions        Cost  Leads  \\\n",
       "0     A1000  Data Analytics Course     104         4498  231.880000     14   \n",
       "1     A1001  Data Analytics Course     173         5107  216.840000     10   \n",
       "2     A1002  Data Analytics Course      90         4544  203.660000     26   \n",
       "3     A1003  Data Analytics Course     142         3185  237.660000     17   \n",
       "4     A1004  Data Analytics Course     156         3361  195.900000     30   \n",
       "...     ...                    ...     ...          ...         ...    ...   \n",
       "2595  A3595  Data Analytics Course      88         5344  242.070000     17   \n",
       "2596  A3596  Data Analytics Course     154         3211  248.280000     14   \n",
       "2597  A3597  Data Analytics Course     113         3808  233.250000     18   \n",
       "2598  A3598  Data Analytics Course     196         5853  220.130000     16   \n",
       "2599  A3599  Data Analytics Course     138         5453  215.090623     12   \n",
       "\n",
       "      Conversions  Conversion_Rate  Sales_Amount    Ad_Date   Location  \\\n",
       "0               7         5.800000        1892.0 2024-11-16  Hyderabad   \n",
       "1               8         4.600000        1679.0 2024-11-20  Hyderabad   \n",
       "2               9        10.000000        1624.0 2024-11-16  Hyderabad   \n",
       "3               6         4.225352        1225.0 2024-11-26  Hyderabad   \n",
       "4               8         5.128205        1091.0 2024-11-22  Hyderabad   \n",
       "...           ...              ...           ...        ...        ...   \n",
       "2595            9         5.400000        1418.0 2024-11-29  Hyderabad   \n",
       "2596            6         3.900000        1950.0 2024-11-28  Hyderabad   \n",
       "2597            4         3.500000        1085.0 2024-11-02  Hyderabad   \n",
       "2598            7         3.600000        1558.0 2024-11-08  Hyderabad   \n",
       "2599            5         4.943533        1174.0 2024-11-22  Hyderabad   \n",
       "\n",
       "       Device                 Keyword       ROI  \n",
       "0     desktop    learn data analytics  7.159393  \n",
       "1      mobile   data analytics course  6.743036  \n",
       "2     desktop   data analitics online  6.974074  \n",
       "3      tablet  data anaytics training  4.154422  \n",
       "4     desktop    online data analytic  4.569168  \n",
       "...       ...                     ...       ...  \n",
       "2595   mobile    online data analytic  4.857810  \n",
       "2596   tablet   data analitics online  6.854036  \n",
       "2597  desktop  data anaytics training  3.651661  \n",
       "2598   tablet  data anaytics training  6.077636  \n",
       "2599  desktop      analytics for data  4.458164  \n",
       "\n",
       "[2600 rows x 14 columns]"
      ]
     },
     "execution_count": 22,
     "metadata": {},
     "output_type": "execute_result"
    }
   ],
   "source": [
    "df['ROI'] = (df['Sales_Amount'] - df['Cost']) / df['Cost']\n",
    "df"
   ]
  },
  {
   "cell_type": "code",
   "execution_count": 23,
   "id": "0120ccc1",
   "metadata": {
    "execution": {
     "iopub.execute_input": "2025-08-18T00:26:36.674154Z",
     "iopub.status.busy": "2025-08-18T00:26:36.673798Z",
     "iopub.status.idle": "2025-08-18T00:26:36.698192Z",
     "shell.execute_reply": "2025-08-18T00:26:36.697170Z"
    },
    "executionInfo": {
     "elapsed": 19,
     "status": "ok",
     "timestamp": 1755056721116,
     "user": {
      "displayName": "Ahsan Mubarak",
      "userId": "13952536471194166156"
     },
     "user_tz": -420
    },
    "id": "YX5BCoDka9Ik",
    "outputId": "efd6a521-ae69-4a52-c7e9-9f89ed96c288",
    "papermill": {
     "duration": 0.041584,
     "end_time": "2025-08-18T00:26:36.700083",
     "exception": false,
     "start_time": "2025-08-18T00:26:36.658499",
     "status": "completed"
    },
    "tags": []
   },
   "outputs": [
    {
     "data": {
      "text/html": [
       "<div>\n",
       "<style scoped>\n",
       "    .dataframe tbody tr th:only-of-type {\n",
       "        vertical-align: middle;\n",
       "    }\n",
       "\n",
       "    .dataframe tbody tr th {\n",
       "        vertical-align: top;\n",
       "    }\n",
       "\n",
       "    .dataframe thead th {\n",
       "        text-align: right;\n",
       "    }\n",
       "</style>\n",
       "<table border=\"1\" class=\"dataframe\">\n",
       "  <thead>\n",
       "    <tr style=\"text-align: right;\">\n",
       "      <th></th>\n",
       "      <th>Ad_ID</th>\n",
       "      <th>Campaign_Name</th>\n",
       "      <th>Clicks</th>\n",
       "      <th>Impressions</th>\n",
       "      <th>Cost</th>\n",
       "      <th>Leads</th>\n",
       "      <th>Conversions</th>\n",
       "      <th>Conversion_Rate</th>\n",
       "      <th>Sales_Amount</th>\n",
       "      <th>Ad_Date</th>\n",
       "      <th>Location</th>\n",
       "      <th>Device</th>\n",
       "      <th>Keyword</th>\n",
       "      <th>ROI</th>\n",
       "    </tr>\n",
       "  </thead>\n",
       "  <tbody>\n",
       "    <tr>\n",
       "      <th>0</th>\n",
       "      <td>A1000</td>\n",
       "      <td>Data Analytics Course</td>\n",
       "      <td>104</td>\n",
       "      <td>4498</td>\n",
       "      <td>231.88</td>\n",
       "      <td>14</td>\n",
       "      <td>7</td>\n",
       "      <td>5.80</td>\n",
       "      <td>1892.0</td>\n",
       "      <td>2024-11-16</td>\n",
       "      <td>Hyderabad</td>\n",
       "      <td>desktop</td>\n",
       "      <td>learn data analytics</td>\n",
       "      <td>7.16</td>\n",
       "    </tr>\n",
       "    <tr>\n",
       "      <th>1</th>\n",
       "      <td>A1001</td>\n",
       "      <td>Data Analytics Course</td>\n",
       "      <td>173</td>\n",
       "      <td>5107</td>\n",
       "      <td>216.84</td>\n",
       "      <td>10</td>\n",
       "      <td>8</td>\n",
       "      <td>4.60</td>\n",
       "      <td>1679.0</td>\n",
       "      <td>2024-11-20</td>\n",
       "      <td>Hyderabad</td>\n",
       "      <td>mobile</td>\n",
       "      <td>data analytics course</td>\n",
       "      <td>6.74</td>\n",
       "    </tr>\n",
       "    <tr>\n",
       "      <th>2</th>\n",
       "      <td>A1002</td>\n",
       "      <td>Data Analytics Course</td>\n",
       "      <td>90</td>\n",
       "      <td>4544</td>\n",
       "      <td>203.66</td>\n",
       "      <td>26</td>\n",
       "      <td>9</td>\n",
       "      <td>10.00</td>\n",
       "      <td>1624.0</td>\n",
       "      <td>2024-11-16</td>\n",
       "      <td>Hyderabad</td>\n",
       "      <td>desktop</td>\n",
       "      <td>data analitics online</td>\n",
       "      <td>6.97</td>\n",
       "    </tr>\n",
       "    <tr>\n",
       "      <th>3</th>\n",
       "      <td>A1003</td>\n",
       "      <td>Data Analytics Course</td>\n",
       "      <td>142</td>\n",
       "      <td>3185</td>\n",
       "      <td>237.66</td>\n",
       "      <td>17</td>\n",
       "      <td>6</td>\n",
       "      <td>4.23</td>\n",
       "      <td>1225.0</td>\n",
       "      <td>2024-11-26</td>\n",
       "      <td>Hyderabad</td>\n",
       "      <td>tablet</td>\n",
       "      <td>data anaytics training</td>\n",
       "      <td>4.15</td>\n",
       "    </tr>\n",
       "    <tr>\n",
       "      <th>4</th>\n",
       "      <td>A1004</td>\n",
       "      <td>Data Analytics Course</td>\n",
       "      <td>156</td>\n",
       "      <td>3361</td>\n",
       "      <td>195.90</td>\n",
       "      <td>30</td>\n",
       "      <td>8</td>\n",
       "      <td>5.13</td>\n",
       "      <td>1091.0</td>\n",
       "      <td>2024-11-22</td>\n",
       "      <td>Hyderabad</td>\n",
       "      <td>desktop</td>\n",
       "      <td>online data analytic</td>\n",
       "      <td>4.57</td>\n",
       "    </tr>\n",
       "    <tr>\n",
       "      <th>...</th>\n",
       "      <td>...</td>\n",
       "      <td>...</td>\n",
       "      <td>...</td>\n",
       "      <td>...</td>\n",
       "      <td>...</td>\n",
       "      <td>...</td>\n",
       "      <td>...</td>\n",
       "      <td>...</td>\n",
       "      <td>...</td>\n",
       "      <td>...</td>\n",
       "      <td>...</td>\n",
       "      <td>...</td>\n",
       "      <td>...</td>\n",
       "      <td>...</td>\n",
       "    </tr>\n",
       "    <tr>\n",
       "      <th>2595</th>\n",
       "      <td>A3595</td>\n",
       "      <td>Data Analytics Course</td>\n",
       "      <td>88</td>\n",
       "      <td>5344</td>\n",
       "      <td>242.07</td>\n",
       "      <td>17</td>\n",
       "      <td>9</td>\n",
       "      <td>5.40</td>\n",
       "      <td>1418.0</td>\n",
       "      <td>2024-11-29</td>\n",
       "      <td>Hyderabad</td>\n",
       "      <td>mobile</td>\n",
       "      <td>online data analytic</td>\n",
       "      <td>4.86</td>\n",
       "    </tr>\n",
       "    <tr>\n",
       "      <th>2596</th>\n",
       "      <td>A3596</td>\n",
       "      <td>Data Analytics Course</td>\n",
       "      <td>154</td>\n",
       "      <td>3211</td>\n",
       "      <td>248.28</td>\n",
       "      <td>14</td>\n",
       "      <td>6</td>\n",
       "      <td>3.90</td>\n",
       "      <td>1950.0</td>\n",
       "      <td>2024-11-28</td>\n",
       "      <td>Hyderabad</td>\n",
       "      <td>tablet</td>\n",
       "      <td>data analitics online</td>\n",
       "      <td>6.85</td>\n",
       "    </tr>\n",
       "    <tr>\n",
       "      <th>2597</th>\n",
       "      <td>A3597</td>\n",
       "      <td>Data Analytics Course</td>\n",
       "      <td>113</td>\n",
       "      <td>3808</td>\n",
       "      <td>233.25</td>\n",
       "      <td>18</td>\n",
       "      <td>4</td>\n",
       "      <td>3.50</td>\n",
       "      <td>1085.0</td>\n",
       "      <td>2024-11-02</td>\n",
       "      <td>Hyderabad</td>\n",
       "      <td>desktop</td>\n",
       "      <td>data anaytics training</td>\n",
       "      <td>3.65</td>\n",
       "    </tr>\n",
       "    <tr>\n",
       "      <th>2598</th>\n",
       "      <td>A3598</td>\n",
       "      <td>Data Analytics Course</td>\n",
       "      <td>196</td>\n",
       "      <td>5853</td>\n",
       "      <td>220.13</td>\n",
       "      <td>16</td>\n",
       "      <td>7</td>\n",
       "      <td>3.60</td>\n",
       "      <td>1558.0</td>\n",
       "      <td>2024-11-08</td>\n",
       "      <td>Hyderabad</td>\n",
       "      <td>tablet</td>\n",
       "      <td>data anaytics training</td>\n",
       "      <td>6.08</td>\n",
       "    </tr>\n",
       "    <tr>\n",
       "      <th>2599</th>\n",
       "      <td>A3599</td>\n",
       "      <td>Data Analytics Course</td>\n",
       "      <td>138</td>\n",
       "      <td>5453</td>\n",
       "      <td>215.09</td>\n",
       "      <td>12</td>\n",
       "      <td>5</td>\n",
       "      <td>4.94</td>\n",
       "      <td>1174.0</td>\n",
       "      <td>2024-11-22</td>\n",
       "      <td>Hyderabad</td>\n",
       "      <td>desktop</td>\n",
       "      <td>analytics for data</td>\n",
       "      <td>4.46</td>\n",
       "    </tr>\n",
       "  </tbody>\n",
       "</table>\n",
       "<p>2600 rows × 14 columns</p>\n",
       "</div>"
      ],
      "text/plain": [
       "      Ad_ID          Campaign_Name  Clicks  Impressions    Cost  Leads  \\\n",
       "0     A1000  Data Analytics Course     104         4498  231.88     14   \n",
       "1     A1001  Data Analytics Course     173         5107  216.84     10   \n",
       "2     A1002  Data Analytics Course      90         4544  203.66     26   \n",
       "3     A1003  Data Analytics Course     142         3185  237.66     17   \n",
       "4     A1004  Data Analytics Course     156         3361  195.90     30   \n",
       "...     ...                    ...     ...          ...     ...    ...   \n",
       "2595  A3595  Data Analytics Course      88         5344  242.07     17   \n",
       "2596  A3596  Data Analytics Course     154         3211  248.28     14   \n",
       "2597  A3597  Data Analytics Course     113         3808  233.25     18   \n",
       "2598  A3598  Data Analytics Course     196         5853  220.13     16   \n",
       "2599  A3599  Data Analytics Course     138         5453  215.09     12   \n",
       "\n",
       "      Conversions  Conversion_Rate  Sales_Amount    Ad_Date   Location  \\\n",
       "0               7             5.80        1892.0 2024-11-16  Hyderabad   \n",
       "1               8             4.60        1679.0 2024-11-20  Hyderabad   \n",
       "2               9            10.00        1624.0 2024-11-16  Hyderabad   \n",
       "3               6             4.23        1225.0 2024-11-26  Hyderabad   \n",
       "4               8             5.13        1091.0 2024-11-22  Hyderabad   \n",
       "...           ...              ...           ...        ...        ...   \n",
       "2595            9             5.40        1418.0 2024-11-29  Hyderabad   \n",
       "2596            6             3.90        1950.0 2024-11-28  Hyderabad   \n",
       "2597            4             3.50        1085.0 2024-11-02  Hyderabad   \n",
       "2598            7             3.60        1558.0 2024-11-08  Hyderabad   \n",
       "2599            5             4.94        1174.0 2024-11-22  Hyderabad   \n",
       "\n",
       "       Device                 Keyword   ROI  \n",
       "0     desktop    learn data analytics  7.16  \n",
       "1      mobile   data analytics course  6.74  \n",
       "2     desktop   data analitics online  6.97  \n",
       "3      tablet  data anaytics training  4.15  \n",
       "4     desktop    online data analytic  4.57  \n",
       "...       ...                     ...   ...  \n",
       "2595   mobile    online data analytic  4.86  \n",
       "2596   tablet   data analitics online  6.85  \n",
       "2597  desktop  data anaytics training  3.65  \n",
       "2598   tablet  data anaytics training  6.08  \n",
       "2599  desktop      analytics for data  4.46  \n",
       "\n",
       "[2600 rows x 14 columns]"
      ]
     },
     "execution_count": 23,
     "metadata": {},
     "output_type": "execute_result"
    }
   ],
   "source": [
    "df[['Cost', 'Conversion_Rate', 'Sales_Amount', 'ROI']] = df[['Cost', 'Conversion_Rate', 'Sales_Amount', 'ROI']].round(2)\n",
    "df"
   ]
  },
  {
   "cell_type": "code",
   "execution_count": 24,
   "id": "bbb20436",
   "metadata": {
    "execution": {
     "iopub.execute_input": "2025-08-18T00:26:36.733713Z",
     "iopub.status.busy": "2025-08-18T00:26:36.733393Z",
     "iopub.status.idle": "2025-08-18T00:26:36.778935Z",
     "shell.execute_reply": "2025-08-18T00:26:36.777525Z"
    },
    "executionInfo": {
     "elapsed": 42,
     "status": "ok",
     "timestamp": 1755056721156,
     "user": {
      "displayName": "Ahsan Mubarak",
      "userId": "13952536471194166156"
     },
     "user_tz": -420
    },
    "id": "hjAm89hZbZH2",
    "outputId": "2e1b8cb9-5ccf-477d-a5ad-904a330a8f6d",
    "papermill": {
     "duration": 0.062526,
     "end_time": "2025-08-18T00:26:36.780747",
     "exception": false,
     "start_time": "2025-08-18T00:26:36.718221",
     "status": "completed"
    },
    "tags": []
   },
   "outputs": [
    {
     "data": {
      "text/html": [
       "<div>\n",
       "<style scoped>\n",
       "    .dataframe tbody tr th:only-of-type {\n",
       "        vertical-align: middle;\n",
       "    }\n",
       "\n",
       "    .dataframe tbody tr th {\n",
       "        vertical-align: top;\n",
       "    }\n",
       "\n",
       "    .dataframe thead th {\n",
       "        text-align: right;\n",
       "    }\n",
       "</style>\n",
       "<table border=\"1\" class=\"dataframe\">\n",
       "  <thead>\n",
       "    <tr style=\"text-align: right;\">\n",
       "      <th></th>\n",
       "      <th>Clicks</th>\n",
       "      <th>Impressions</th>\n",
       "      <th>Cost</th>\n",
       "      <th>Leads</th>\n",
       "      <th>Conversions</th>\n",
       "      <th>Conversion_Rate</th>\n",
       "      <th>Sales_Amount</th>\n",
       "      <th>Ad_Date</th>\n",
       "      <th>ROI</th>\n",
       "    </tr>\n",
       "  </thead>\n",
       "  <tbody>\n",
       "    <tr>\n",
       "      <th>count</th>\n",
       "      <td>2600.000000</td>\n",
       "      <td>2600.000000</td>\n",
       "      <td>2600.000000</td>\n",
       "      <td>2600.000000</td>\n",
       "      <td>2600.000000</td>\n",
       "      <td>2600.000000</td>\n",
       "      <td>2600.000000</td>\n",
       "      <td>2600</td>\n",
       "      <td>2600.000000</td>\n",
       "    </tr>\n",
       "    <tr>\n",
       "      <th>mean</th>\n",
       "      <td>138.915769</td>\n",
       "      <td>4523.275000</td>\n",
       "      <td>215.090600</td>\n",
       "      <td>20.003846</td>\n",
       "      <td>6.504231</td>\n",
       "      <td>4.943269</td>\n",
       "      <td>1498.648212</td>\n",
       "      <td>2024-11-15 16:54:38.769230848</td>\n",
       "      <td>6.027108</td>\n",
       "    </tr>\n",
       "    <tr>\n",
       "      <th>min</th>\n",
       "      <td>80.000000</td>\n",
       "      <td>3000.000000</td>\n",
       "      <td>180.010000</td>\n",
       "      <td>10.000000</td>\n",
       "      <td>3.000000</td>\n",
       "      <td>1.500000</td>\n",
       "      <td>1000.000000</td>\n",
       "      <td>2024-11-01 00:00:00</td>\n",
       "      <td>3.070000</td>\n",
       "    </tr>\n",
       "    <tr>\n",
       "      <th>25%</th>\n",
       "      <td>111.000000</td>\n",
       "      <td>3778.000000</td>\n",
       "      <td>198.385000</td>\n",
       "      <td>15.000000</td>\n",
       "      <td>5.000000</td>\n",
       "      <td>3.585000</td>\n",
       "      <td>1262.000000</td>\n",
       "      <td>2024-11-08 00:00:00</td>\n",
       "      <td>4.890000</td>\n",
       "    </tr>\n",
       "    <tr>\n",
       "      <th>50%</th>\n",
       "      <td>138.000000</td>\n",
       "      <td>4523.000000</td>\n",
       "      <td>215.090000</td>\n",
       "      <td>20.000000</td>\n",
       "      <td>6.000000</td>\n",
       "      <td>4.800000</td>\n",
       "      <td>1498.650000</td>\n",
       "      <td>2024-11-16 00:00:00</td>\n",
       "      <td>5.940000</td>\n",
       "    </tr>\n",
       "    <tr>\n",
       "      <th>75%</th>\n",
       "      <td>167.000000</td>\n",
       "      <td>5268.250000</td>\n",
       "      <td>232.297500</td>\n",
       "      <td>25.000000</td>\n",
       "      <td>8.000000</td>\n",
       "      <td>5.800000</td>\n",
       "      <td>1728.000000</td>\n",
       "      <td>2024-11-23 00:00:00</td>\n",
       "      <td>7.102500</td>\n",
       "    </tr>\n",
       "    <tr>\n",
       "      <th>max</th>\n",
       "      <td>199.000000</td>\n",
       "      <td>5999.000000</td>\n",
       "      <td>249.890000</td>\n",
       "      <td>30.000000</td>\n",
       "      <td>10.000000</td>\n",
       "      <td>12.300000</td>\n",
       "      <td>2000.000000</td>\n",
       "      <td>2024-11-30 00:00:00</td>\n",
       "      <td>10.050000</td>\n",
       "    </tr>\n",
       "    <tr>\n",
       "      <th>std</th>\n",
       "      <td>33.865784</td>\n",
       "      <td>860.843134</td>\n",
       "      <td>19.907373</td>\n",
       "      <td>5.976353</td>\n",
       "      <td>2.241649</td>\n",
       "      <td>1.998655</td>\n",
       "      <td>279.323553</td>\n",
       "      <td>NaN</td>\n",
       "      <td>1.468899</td>\n",
       "    </tr>\n",
       "  </tbody>\n",
       "</table>\n",
       "</div>"
      ],
      "text/plain": [
       "            Clicks  Impressions         Cost        Leads  Conversions  \\\n",
       "count  2600.000000  2600.000000  2600.000000  2600.000000  2600.000000   \n",
       "mean    138.915769  4523.275000   215.090600    20.003846     6.504231   \n",
       "min      80.000000  3000.000000   180.010000    10.000000     3.000000   \n",
       "25%     111.000000  3778.000000   198.385000    15.000000     5.000000   \n",
       "50%     138.000000  4523.000000   215.090000    20.000000     6.000000   \n",
       "75%     167.000000  5268.250000   232.297500    25.000000     8.000000   \n",
       "max     199.000000  5999.000000   249.890000    30.000000    10.000000   \n",
       "std      33.865784   860.843134    19.907373     5.976353     2.241649   \n",
       "\n",
       "       Conversion_Rate  Sales_Amount                        Ad_Date  \\\n",
       "count      2600.000000   2600.000000                           2600   \n",
       "mean          4.943269   1498.648212  2024-11-15 16:54:38.769230848   \n",
       "min           1.500000   1000.000000            2024-11-01 00:00:00   \n",
       "25%           3.585000   1262.000000            2024-11-08 00:00:00   \n",
       "50%           4.800000   1498.650000            2024-11-16 00:00:00   \n",
       "75%           5.800000   1728.000000            2024-11-23 00:00:00   \n",
       "max          12.300000   2000.000000            2024-11-30 00:00:00   \n",
       "std           1.998655    279.323553                            NaN   \n",
       "\n",
       "               ROI  \n",
       "count  2600.000000  \n",
       "mean      6.027108  \n",
       "min       3.070000  \n",
       "25%       4.890000  \n",
       "50%       5.940000  \n",
       "75%       7.102500  \n",
       "max      10.050000  \n",
       "std       1.468899  "
      ]
     },
     "execution_count": 24,
     "metadata": {},
     "output_type": "execute_result"
    }
   ],
   "source": [
    "df.describe()"
   ]
  },
  {
   "cell_type": "code",
   "execution_count": 25,
   "id": "6eafb3e0",
   "metadata": {
    "execution": {
     "iopub.execute_input": "2025-08-18T00:26:36.816278Z",
     "iopub.status.busy": "2025-08-18T00:26:36.815713Z",
     "iopub.status.idle": "2025-08-18T00:26:36.827930Z",
     "shell.execute_reply": "2025-08-18T00:26:36.826341Z"
    },
    "executionInfo": {
     "elapsed": 48,
     "status": "ok",
     "timestamp": 1755056721210,
     "user": {
      "displayName": "Ahsan Mubarak",
      "userId": "13952536471194166156"
     },
     "user_tz": -420
    },
    "id": "1SOS7nJEb2Fh",
    "outputId": "c6f98b3c-53be-45ee-b6e1-aa2edd787d8b",
    "papermill": {
     "duration": 0.03288,
     "end_time": "2025-08-18T00:26:36.829855",
     "exception": false,
     "start_time": "2025-08-18T00:26:36.796975",
     "status": "completed"
    },
    "tags": []
   },
   "outputs": [
    {
     "data": {
      "text/plain": [
       "Impressions    11760515\n",
       "Clicks           361181\n",
       "Leads             52010\n",
       "Conversions       16911\n",
       "dtype: int64"
      ]
     },
     "execution_count": 25,
     "metadata": {},
     "output_type": "execute_result"
    }
   ],
   "source": [
    "df[['Impressions', 'Clicks', 'Leads', 'Conversions']].sum()"
   ]
  },
  {
   "cell_type": "code",
   "execution_count": 26,
   "id": "09a9ceca",
   "metadata": {
    "execution": {
     "iopub.execute_input": "2025-08-18T00:26:36.864453Z",
     "iopub.status.busy": "2025-08-18T00:26:36.863706Z",
     "iopub.status.idle": "2025-08-18T00:26:36.895496Z",
     "shell.execute_reply": "2025-08-18T00:26:36.894351Z"
    },
    "papermill": {
     "duration": 0.049606,
     "end_time": "2025-08-18T00:26:36.897748",
     "exception": false,
     "start_time": "2025-08-18T00:26:36.848142",
     "status": "completed"
    },
    "tags": []
   },
   "outputs": [
    {
     "data": {
      "text/html": [
       "<div>\n",
       "<style scoped>\n",
       "    .dataframe tbody tr th:only-of-type {\n",
       "        vertical-align: middle;\n",
       "    }\n",
       "\n",
       "    .dataframe tbody tr th {\n",
       "        vertical-align: top;\n",
       "    }\n",
       "\n",
       "    .dataframe thead th {\n",
       "        text-align: right;\n",
       "    }\n",
       "</style>\n",
       "<table border=\"1\" class=\"dataframe\">\n",
       "  <thead>\n",
       "    <tr style=\"text-align: right;\">\n",
       "      <th></th>\n",
       "      <th>Ad_ID</th>\n",
       "      <th>Campaign_Name</th>\n",
       "      <th>Clicks</th>\n",
       "      <th>Impressions</th>\n",
       "      <th>Cost</th>\n",
       "      <th>Leads</th>\n",
       "      <th>Conversions</th>\n",
       "      <th>Conversion_Rate</th>\n",
       "      <th>Sales_Amount</th>\n",
       "      <th>Ad_Date</th>\n",
       "      <th>Location</th>\n",
       "      <th>Device</th>\n",
       "      <th>Keyword</th>\n",
       "      <th>ROI</th>\n",
       "      <th>CTR</th>\n",
       "    </tr>\n",
       "  </thead>\n",
       "  <tbody>\n",
       "    <tr>\n",
       "      <th>0</th>\n",
       "      <td>A1000</td>\n",
       "      <td>Data Analytics Course</td>\n",
       "      <td>104</td>\n",
       "      <td>4498</td>\n",
       "      <td>231.88</td>\n",
       "      <td>14</td>\n",
       "      <td>7</td>\n",
       "      <td>5.80</td>\n",
       "      <td>1892.0</td>\n",
       "      <td>2024-11-16</td>\n",
       "      <td>Hyderabad</td>\n",
       "      <td>desktop</td>\n",
       "      <td>learn data analytics</td>\n",
       "      <td>7.16</td>\n",
       "      <td>2.31</td>\n",
       "    </tr>\n",
       "    <tr>\n",
       "      <th>1</th>\n",
       "      <td>A1001</td>\n",
       "      <td>Data Analytics Course</td>\n",
       "      <td>173</td>\n",
       "      <td>5107</td>\n",
       "      <td>216.84</td>\n",
       "      <td>10</td>\n",
       "      <td>8</td>\n",
       "      <td>4.60</td>\n",
       "      <td>1679.0</td>\n",
       "      <td>2024-11-20</td>\n",
       "      <td>Hyderabad</td>\n",
       "      <td>mobile</td>\n",
       "      <td>data analytics course</td>\n",
       "      <td>6.74</td>\n",
       "      <td>3.39</td>\n",
       "    </tr>\n",
       "    <tr>\n",
       "      <th>2</th>\n",
       "      <td>A1002</td>\n",
       "      <td>Data Analytics Course</td>\n",
       "      <td>90</td>\n",
       "      <td>4544</td>\n",
       "      <td>203.66</td>\n",
       "      <td>26</td>\n",
       "      <td>9</td>\n",
       "      <td>10.00</td>\n",
       "      <td>1624.0</td>\n",
       "      <td>2024-11-16</td>\n",
       "      <td>Hyderabad</td>\n",
       "      <td>desktop</td>\n",
       "      <td>data analitics online</td>\n",
       "      <td>6.97</td>\n",
       "      <td>1.98</td>\n",
       "    </tr>\n",
       "    <tr>\n",
       "      <th>3</th>\n",
       "      <td>A1003</td>\n",
       "      <td>Data Analytics Course</td>\n",
       "      <td>142</td>\n",
       "      <td>3185</td>\n",
       "      <td>237.66</td>\n",
       "      <td>17</td>\n",
       "      <td>6</td>\n",
       "      <td>4.23</td>\n",
       "      <td>1225.0</td>\n",
       "      <td>2024-11-26</td>\n",
       "      <td>Hyderabad</td>\n",
       "      <td>tablet</td>\n",
       "      <td>data anaytics training</td>\n",
       "      <td>4.15</td>\n",
       "      <td>4.46</td>\n",
       "    </tr>\n",
       "    <tr>\n",
       "      <th>4</th>\n",
       "      <td>A1004</td>\n",
       "      <td>Data Analytics Course</td>\n",
       "      <td>156</td>\n",
       "      <td>3361</td>\n",
       "      <td>195.90</td>\n",
       "      <td>30</td>\n",
       "      <td>8</td>\n",
       "      <td>5.13</td>\n",
       "      <td>1091.0</td>\n",
       "      <td>2024-11-22</td>\n",
       "      <td>Hyderabad</td>\n",
       "      <td>desktop</td>\n",
       "      <td>online data analytic</td>\n",
       "      <td>4.57</td>\n",
       "      <td>4.64</td>\n",
       "    </tr>\n",
       "    <tr>\n",
       "      <th>...</th>\n",
       "      <td>...</td>\n",
       "      <td>...</td>\n",
       "      <td>...</td>\n",
       "      <td>...</td>\n",
       "      <td>...</td>\n",
       "      <td>...</td>\n",
       "      <td>...</td>\n",
       "      <td>...</td>\n",
       "      <td>...</td>\n",
       "      <td>...</td>\n",
       "      <td>...</td>\n",
       "      <td>...</td>\n",
       "      <td>...</td>\n",
       "      <td>...</td>\n",
       "      <td>...</td>\n",
       "    </tr>\n",
       "    <tr>\n",
       "      <th>2595</th>\n",
       "      <td>A3595</td>\n",
       "      <td>Data Analytics Course</td>\n",
       "      <td>88</td>\n",
       "      <td>5344</td>\n",
       "      <td>242.07</td>\n",
       "      <td>17</td>\n",
       "      <td>9</td>\n",
       "      <td>5.40</td>\n",
       "      <td>1418.0</td>\n",
       "      <td>2024-11-29</td>\n",
       "      <td>Hyderabad</td>\n",
       "      <td>mobile</td>\n",
       "      <td>online data analytic</td>\n",
       "      <td>4.86</td>\n",
       "      <td>1.65</td>\n",
       "    </tr>\n",
       "    <tr>\n",
       "      <th>2596</th>\n",
       "      <td>A3596</td>\n",
       "      <td>Data Analytics Course</td>\n",
       "      <td>154</td>\n",
       "      <td>3211</td>\n",
       "      <td>248.28</td>\n",
       "      <td>14</td>\n",
       "      <td>6</td>\n",
       "      <td>3.90</td>\n",
       "      <td>1950.0</td>\n",
       "      <td>2024-11-28</td>\n",
       "      <td>Hyderabad</td>\n",
       "      <td>tablet</td>\n",
       "      <td>data analitics online</td>\n",
       "      <td>6.85</td>\n",
       "      <td>4.80</td>\n",
       "    </tr>\n",
       "    <tr>\n",
       "      <th>2597</th>\n",
       "      <td>A3597</td>\n",
       "      <td>Data Analytics Course</td>\n",
       "      <td>113</td>\n",
       "      <td>3808</td>\n",
       "      <td>233.25</td>\n",
       "      <td>18</td>\n",
       "      <td>4</td>\n",
       "      <td>3.50</td>\n",
       "      <td>1085.0</td>\n",
       "      <td>2024-11-02</td>\n",
       "      <td>Hyderabad</td>\n",
       "      <td>desktop</td>\n",
       "      <td>data anaytics training</td>\n",
       "      <td>3.65</td>\n",
       "      <td>2.97</td>\n",
       "    </tr>\n",
       "    <tr>\n",
       "      <th>2598</th>\n",
       "      <td>A3598</td>\n",
       "      <td>Data Analytics Course</td>\n",
       "      <td>196</td>\n",
       "      <td>5853</td>\n",
       "      <td>220.13</td>\n",
       "      <td>16</td>\n",
       "      <td>7</td>\n",
       "      <td>3.60</td>\n",
       "      <td>1558.0</td>\n",
       "      <td>2024-11-08</td>\n",
       "      <td>Hyderabad</td>\n",
       "      <td>tablet</td>\n",
       "      <td>data anaytics training</td>\n",
       "      <td>6.08</td>\n",
       "      <td>3.35</td>\n",
       "    </tr>\n",
       "    <tr>\n",
       "      <th>2599</th>\n",
       "      <td>A3599</td>\n",
       "      <td>Data Analytics Course</td>\n",
       "      <td>138</td>\n",
       "      <td>5453</td>\n",
       "      <td>215.09</td>\n",
       "      <td>12</td>\n",
       "      <td>5</td>\n",
       "      <td>4.94</td>\n",
       "      <td>1174.0</td>\n",
       "      <td>2024-11-22</td>\n",
       "      <td>Hyderabad</td>\n",
       "      <td>desktop</td>\n",
       "      <td>analytics for data</td>\n",
       "      <td>4.46</td>\n",
       "      <td>2.53</td>\n",
       "    </tr>\n",
       "  </tbody>\n",
       "</table>\n",
       "<p>2600 rows × 15 columns</p>\n",
       "</div>"
      ],
      "text/plain": [
       "      Ad_ID          Campaign_Name  Clicks  Impressions    Cost  Leads  \\\n",
       "0     A1000  Data Analytics Course     104         4498  231.88     14   \n",
       "1     A1001  Data Analytics Course     173         5107  216.84     10   \n",
       "2     A1002  Data Analytics Course      90         4544  203.66     26   \n",
       "3     A1003  Data Analytics Course     142         3185  237.66     17   \n",
       "4     A1004  Data Analytics Course     156         3361  195.90     30   \n",
       "...     ...                    ...     ...          ...     ...    ...   \n",
       "2595  A3595  Data Analytics Course      88         5344  242.07     17   \n",
       "2596  A3596  Data Analytics Course     154         3211  248.28     14   \n",
       "2597  A3597  Data Analytics Course     113         3808  233.25     18   \n",
       "2598  A3598  Data Analytics Course     196         5853  220.13     16   \n",
       "2599  A3599  Data Analytics Course     138         5453  215.09     12   \n",
       "\n",
       "      Conversions  Conversion_Rate  Sales_Amount    Ad_Date   Location  \\\n",
       "0               7             5.80        1892.0 2024-11-16  Hyderabad   \n",
       "1               8             4.60        1679.0 2024-11-20  Hyderabad   \n",
       "2               9            10.00        1624.0 2024-11-16  Hyderabad   \n",
       "3               6             4.23        1225.0 2024-11-26  Hyderabad   \n",
       "4               8             5.13        1091.0 2024-11-22  Hyderabad   \n",
       "...           ...              ...           ...        ...        ...   \n",
       "2595            9             5.40        1418.0 2024-11-29  Hyderabad   \n",
       "2596            6             3.90        1950.0 2024-11-28  Hyderabad   \n",
       "2597            4             3.50        1085.0 2024-11-02  Hyderabad   \n",
       "2598            7             3.60        1558.0 2024-11-08  Hyderabad   \n",
       "2599            5             4.94        1174.0 2024-11-22  Hyderabad   \n",
       "\n",
       "       Device                 Keyword   ROI   CTR  \n",
       "0     desktop    learn data analytics  7.16  2.31  \n",
       "1      mobile   data analytics course  6.74  3.39  \n",
       "2     desktop   data analitics online  6.97  1.98  \n",
       "3      tablet  data anaytics training  4.15  4.46  \n",
       "4     desktop    online data analytic  4.57  4.64  \n",
       "...       ...                     ...   ...   ...  \n",
       "2595   mobile    online data analytic  4.86  1.65  \n",
       "2596   tablet   data analitics online  6.85  4.80  \n",
       "2597  desktop  data anaytics training  3.65  2.97  \n",
       "2598   tablet  data anaytics training  6.08  3.35  \n",
       "2599  desktop      analytics for data  4.46  2.53  \n",
       "\n",
       "[2600 rows x 15 columns]"
      ]
     },
     "execution_count": 26,
     "metadata": {},
     "output_type": "execute_result"
    }
   ],
   "source": [
    "df['CTR'] = (df['Clicks'] / df['Impressions']) * 100\n",
    "df['CTR'] = df['CTR'].round(2)\n",
    "df"
   ]
  },
  {
   "cell_type": "code",
   "execution_count": 27,
   "id": "993ca0b2",
   "metadata": {
    "execution": {
     "iopub.execute_input": "2025-08-18T00:26:36.930644Z",
     "iopub.status.busy": "2025-08-18T00:26:36.930343Z",
     "iopub.status.idle": "2025-08-18T00:26:36.938109Z",
     "shell.execute_reply": "2025-08-18T00:26:36.936521Z"
    },
    "papermill": {
     "duration": 0.025523,
     "end_time": "2025-08-18T00:26:36.939987",
     "exception": false,
     "start_time": "2025-08-18T00:26:36.914464",
     "status": "completed"
    },
    "tags": []
   },
   "outputs": [
    {
     "data": {
      "text/plain": [
       "3.191742307692308"
      ]
     },
     "execution_count": 27,
     "metadata": {},
     "output_type": "execute_result"
    }
   ],
   "source": [
    "df['CTR'].mean()"
   ]
  },
  {
   "cell_type": "markdown",
   "id": "dd2d94ca",
   "metadata": {
    "papermill": {
     "duration": 0.016045,
     "end_time": "2025-08-18T00:26:36.970988",
     "exception": false,
     "start_time": "2025-08-18T00:26:36.954943",
     "status": "completed"
    },
    "tags": []
   },
   "source": [
    "**Interpretation**\n",
    "\n",
    "Based on the Google Ads benchmark CTR of 3.19%, this campaign is slightly above the general standard, but still needs evaluation and optimization to perform better in the next run."
   ]
  },
  {
   "cell_type": "code",
   "execution_count": 28,
   "id": "967f8cec",
   "metadata": {
    "execution": {
     "iopub.execute_input": "2025-08-18T00:26:37.006317Z",
     "iopub.status.busy": "2025-08-18T00:26:37.005963Z",
     "iopub.status.idle": "2025-08-18T00:26:37.020485Z",
     "shell.execute_reply": "2025-08-18T00:26:37.019056Z"
    },
    "papermill": {
     "duration": 0.035195,
     "end_time": "2025-08-18T00:26:37.022799",
     "exception": false,
     "start_time": "2025-08-18T00:26:36.987604",
     "status": "completed"
    },
    "tags": []
   },
   "outputs": [
    {
     "data": {
      "text/html": [
       "<div>\n",
       "<style scoped>\n",
       "    .dataframe tbody tr th:only-of-type {\n",
       "        vertical-align: middle;\n",
       "    }\n",
       "\n",
       "    .dataframe tbody tr th {\n",
       "        vertical-align: top;\n",
       "    }\n",
       "\n",
       "    .dataframe thead th {\n",
       "        text-align: right;\n",
       "    }\n",
       "</style>\n",
       "<table border=\"1\" class=\"dataframe\">\n",
       "  <thead>\n",
       "    <tr style=\"text-align: right;\">\n",
       "      <th></th>\n",
       "      <th>Device</th>\n",
       "      <th>CTR</th>\n",
       "    </tr>\n",
       "  </thead>\n",
       "  <tbody>\n",
       "    <tr>\n",
       "      <th>0</th>\n",
       "      <td>desktop</td>\n",
       "      <td>3.148795</td>\n",
       "    </tr>\n",
       "    <tr>\n",
       "      <th>1</th>\n",
       "      <td>mobile</td>\n",
       "      <td>3.221458</td>\n",
       "    </tr>\n",
       "    <tr>\n",
       "      <th>2</th>\n",
       "      <td>tablet</td>\n",
       "      <td>3.206187</td>\n",
       "    </tr>\n",
       "  </tbody>\n",
       "</table>\n",
       "</div>"
      ],
      "text/plain": [
       "    Device       CTR\n",
       "0  desktop  3.148795\n",
       "1   mobile  3.221458\n",
       "2   tablet  3.206187"
      ]
     },
     "execution_count": 28,
     "metadata": {},
     "output_type": "execute_result"
    }
   ],
   "source": [
    "df.groupby('Device')['CTR'].mean().reset_index()"
   ]
  },
  {
   "cell_type": "code",
   "execution_count": 29,
   "id": "08869b1a",
   "metadata": {
    "execution": {
     "iopub.execute_input": "2025-08-18T00:26:37.055722Z",
     "iopub.status.busy": "2025-08-18T00:26:37.055387Z",
     "iopub.status.idle": "2025-08-18T00:26:37.063591Z",
     "shell.execute_reply": "2025-08-18T00:26:37.062139Z"
    },
    "executionInfo": {
     "elapsed": 31,
     "status": "ok",
     "timestamp": 1755056721212,
     "user": {
      "displayName": "Ahsan Mubarak",
      "userId": "13952536471194166156"
     },
     "user_tz": -420
    },
    "id": "ZpiKyhlsbqeF",
    "outputId": "8c50fbf2-b201-40b8-8460-39346fb8cedd",
    "papermill": {
     "duration": 0.027489,
     "end_time": "2025-08-18T00:26:37.065970",
     "exception": false,
     "start_time": "2025-08-18T00:26:37.038481",
     "status": "completed"
    },
    "tags": []
   },
   "outputs": [
    {
     "data": {
      "text/plain": [
       "4.943269230769231"
      ]
     },
     "execution_count": 29,
     "metadata": {},
     "output_type": "execute_result"
    }
   ],
   "source": [
    "df['Conversion_Rate'].mean()"
   ]
  },
  {
   "cell_type": "markdown",
   "id": "0d0f5267",
   "metadata": {
    "papermill": {
     "duration": 0.015875,
     "end_time": "2025-08-18T00:26:37.100080",
     "exception": false,
     "start_time": "2025-08-18T00:26:37.084205",
     "status": "completed"
    },
    "tags": []
   },
   "source": [
    "**Interpretation**\n",
    "\n",
    "The CR is close to 5%, which is already good for a website/e-commerce. This shows the campaign has good audience segmentation."
   ]
  },
  {
   "cell_type": "code",
   "execution_count": 30,
   "id": "03281402",
   "metadata": {
    "execution": {
     "iopub.execute_input": "2025-08-18T00:26:37.133250Z",
     "iopub.status.busy": "2025-08-18T00:26:37.132530Z",
     "iopub.status.idle": "2025-08-18T00:26:37.142727Z",
     "shell.execute_reply": "2025-08-18T00:26:37.141515Z"
    },
    "executionInfo": {
     "elapsed": 17,
     "status": "ok",
     "timestamp": 1755056721213,
     "user": {
      "displayName": "Ahsan Mubarak",
      "userId": "13952536471194166156"
     },
     "user_tz": -420
    },
    "id": "mb80CkzxfSIE",
    "outputId": "acd6966a-74e3-4d72-96ab-1d51bffbeffe",
    "papermill": {
     "duration": 0.029843,
     "end_time": "2025-08-18T00:26:37.145068",
     "exception": false,
     "start_time": "2025-08-18T00:26:37.115225",
     "status": "completed"
    },
    "tags": []
   },
   "outputs": [
    {
     "data": {
      "text/plain": [
       "min     1.5\n",
       "max    12.3\n",
       "Name: Conversion_Rate, dtype: float64"
      ]
     },
     "execution_count": 30,
     "metadata": {},
     "output_type": "execute_result"
    }
   ],
   "source": [
    "df['Conversion_Rate'].agg(['min', 'max'])"
   ]
  },
  {
   "cell_type": "code",
   "execution_count": 31,
   "id": "d1519aca",
   "metadata": {
    "execution": {
     "iopub.execute_input": "2025-08-18T00:26:37.180422Z",
     "iopub.status.busy": "2025-08-18T00:26:37.179760Z",
     "iopub.status.idle": "2025-08-18T00:26:37.515347Z",
     "shell.execute_reply": "2025-08-18T00:26:37.514405Z"
    },
    "executionInfo": {
     "elapsed": 43,
     "status": "ok",
     "timestamp": 1755056721250,
     "user": {
      "displayName": "Ahsan Mubarak",
      "userId": "13952536471194166156"
     },
     "user_tz": -420
    },
    "id": "xGtZFT_zeacj",
    "outputId": "7fb783f9-3e11-4170-931c-2d516d719f3e",
    "papermill": {
     "duration": 0.354865,
     "end_time": "2025-08-18T00:26:37.517041",
     "exception": false,
     "start_time": "2025-08-18T00:26:37.162176",
     "status": "completed"
    },
    "tags": []
   },
   "outputs": [
    {
     "name": "stderr",
     "output_type": "stream",
     "text": [
      "/usr/local/lib/python3.11/dist-packages/seaborn/_oldcore.py:1119: FutureWarning: use_inf_as_na option is deprecated and will be removed in a future version. Convert inf values to NaN before operating instead.\n",
      "  with pd.option_context('mode.use_inf_as_na', True):\n"
     ]
    },
    {
     "data": {
      "image/png": "[encoded data removed]",
      "text/plain": [
       "<Figure size 640x480 with 1 Axes>"
      ]
     },
     "metadata": {},
     "output_type": "display_data"
    }
   ],
   "source": [
    "sns.histplot(df['Conversion_Rate'])\n",
    "ax = plt.gca()\n",
    "ax.spines['top'].set_visible(False)\n",
    "ax.spines['right'].set_visible(False)\n",
    "ax.spines['left'].set_color('gray')\n",
    "ax.spines['bottom'].set_color('gray')\n",
    "ax.spines['left'].set_linewidth(0.8)\n",
    "ax.spines['bottom'].set_linewidth(0.8)"
   ]
  },
  {
   "cell_type": "code",
   "execution_count": 32,
   "id": "bd622c67",
   "metadata": {
    "execution": {
     "iopub.execute_input": "2025-08-18T00:26:37.549641Z",
     "iopub.status.busy": "2025-08-18T00:26:37.549311Z",
     "iopub.status.idle": "2025-08-18T00:26:37.562134Z",
     "shell.execute_reply": "2025-08-18T00:26:37.561210Z"
    },
    "executionInfo": {
     "elapsed": 30,
     "status": "ok",
     "timestamp": 1755056721281,
     "user": {
      "displayName": "Ahsan Mubarak",
      "userId": "13952536471194166156"
     },
     "user_tz": -420
    },
    "id": "UM6z83H1fueo",
    "outputId": "f931b438-8be9-4344-ad55-f529d17b9245",
    "papermill": {
     "duration": 0.031354,
     "end_time": "2025-08-18T00:26:37.563636",
     "exception": false,
     "start_time": "2025-08-18T00:26:37.532282",
     "status": "completed"
    },
    "tags": []
   },
   "outputs": [
    {
     "data": {
      "text/html": [
       "<div>\n",
       "<style scoped>\n",
       "    .dataframe tbody tr th:only-of-type {\n",
       "        vertical-align: middle;\n",
       "    }\n",
       "\n",
       "    .dataframe tbody tr th {\n",
       "        vertical-align: top;\n",
       "    }\n",
       "\n",
       "    .dataframe thead th {\n",
       "        text-align: right;\n",
       "    }\n",
       "</style>\n",
       "<table border=\"1\" class=\"dataframe\">\n",
       "  <thead>\n",
       "    <tr style=\"text-align: right;\">\n",
       "      <th></th>\n",
       "      <th>Conversion_Rate</th>\n",
       "      <th>CTR</th>\n",
       "    </tr>\n",
       "    <tr>\n",
       "      <th>Device</th>\n",
       "      <th></th>\n",
       "      <th></th>\n",
       "    </tr>\n",
       "  </thead>\n",
       "  <tbody>\n",
       "    <tr>\n",
       "      <th>desktop</th>\n",
       "      <td>4.974471</td>\n",
       "      <td>3.148795</td>\n",
       "    </tr>\n",
       "    <tr>\n",
       "      <th>mobile</th>\n",
       "      <td>4.995125</td>\n",
       "      <td>3.221458</td>\n",
       "    </tr>\n",
       "    <tr>\n",
       "      <th>tablet</th>\n",
       "      <td>4.855456</td>\n",
       "      <td>3.206187</td>\n",
       "    </tr>\n",
       "  </tbody>\n",
       "</table>\n",
       "</div>"
      ],
      "text/plain": [
       "         Conversion_Rate       CTR\n",
       "Device                            \n",
       "desktop         4.974471  3.148795\n",
       "mobile          4.995125  3.221458\n",
       "tablet          4.855456  3.206187"
      ]
     },
     "execution_count": 32,
     "metadata": {},
     "output_type": "execute_result"
    }
   ],
   "source": [
    "df.groupby('Device')[['Conversion_Rate', 'CTR']].mean()"
   ]
  },
  {
   "cell_type": "code",
   "execution_count": 33,
   "id": "535ac5d5",
   "metadata": {
    "execution": {
     "iopub.execute_input": "2025-08-18T00:26:37.597005Z",
     "iopub.status.busy": "2025-08-18T00:26:37.596514Z",
     "iopub.status.idle": "2025-08-18T00:26:37.822229Z",
     "shell.execute_reply": "2025-08-18T00:26:37.820990Z"
    },
    "papermill": {
     "duration": 0.244729,
     "end_time": "2025-08-18T00:26:37.823911",
     "exception": false,
     "start_time": "2025-08-18T00:26:37.579182",
     "status": "completed"
    },
    "tags": []
   },
   "outputs": [
    {
     "data": {
      "image/png": "[encoded data removed]",
      "text/plain": [
       "<Figure size 800x500 with 1 Axes>"
      ]
     },
     "metadata": {},
     "output_type": "display_data"
    }
   ],
   "source": [
    "conversion_rate_device = df.groupby('Device')[['Conversion_Rate', 'CTR']].mean().reset_index()\n",
    "\n",
    "x = np.arange(len(conversion_rate_device['Device']))\n",
    "width = 0.35 \n",
    "\n",
    "fig, ax = plt.subplots(figsize=(8, 5))\n",
    "\n",
    "bars1 = ax.bar(\n",
    "    x - width/2,\n",
    "    conversion_rate_device['Conversion_Rate'],\n",
    "    width,\n",
    "    label='Conversion_Rate',\n",
    "    color='#3A86FF'\n",
    ")\n",
    "\n",
    "bars2 = ax.bar(\n",
    "    x + width/2,\n",
    "    conversion_rate_device['CTR'],\n",
    "    width,\n",
    "    label='CTR',\n",
    "    color='#A0C4FF'\n",
    ")\n",
    "\n",
    "ax.set_title('Conversion Rate & CTR per Device')\n",
    "ax.set_xlabel('')\n",
    "ax.set_ylabel('Percentage (%)')\n",
    "ax.set_xticks(x)\n",
    "ax.set_xticklabels(conversion_rate_device['Device'])\n",
    "\n",
    "for side in ['top', 'right']:\n",
    "    ax.spines[side].set_visible(False)\n",
    "ax.spines['left'].set_color('gray')\n",
    "ax.spines['bottom'].set_color('gray')\n",
    "ax.spines['left'].set_linewidth(0.8)\n",
    "ax.spines['bottom'].set_linewidth(0.8)\n",
    "\n",
    "def add_labels(bars):\n",
    "    for bar in bars:\n",
    "        height = bar.get_height()\n",
    "        ax.text(\n",
    "            bar.get_x() + bar.get_width()/2,\n",
    "            height,\n",
    "            f'{round(height, 3)}%',\n",
    "            ha='center', va='bottom', fontsize=10\n",
    "        )\n",
    "\n",
    "add_labels(bars1)\n",
    "add_labels(bars2)\n",
    "\n",
    "ax.legend(fontsize=6)\n",
    "plt.tight_layout()\n",
    "plt.show()"
   ]
  },
  {
   "cell_type": "markdown",
   "id": "b52f9989",
   "metadata": {
    "papermill": {
     "duration": 0.014969,
     "end_time": "2025-08-18T00:26:37.854732",
     "exception": false,
     "start_time": "2025-08-18T00:26:37.839763",
     "status": "completed"
    },
    "tags": []
   },
   "source": [
    "**CR and CTR per Device**\n",
    "\n",
    "* CTR is around 3%\n",
    "\n",
    "* CR is around 4%\n",
    "\n",
    "* Mobile has the highest CR\n",
    "\n",
    "**Interpretation** \n",
    "\n",
    "Ad quality and landing page performance are consistent and well-optimized across all devices."
   ]
  },
  {
   "cell_type": "code",
   "execution_count": 34,
   "id": "e517e659",
   "metadata": {
    "execution": {
     "iopub.execute_input": "2025-08-18T00:26:37.891538Z",
     "iopub.status.busy": "2025-08-18T00:26:37.891212Z",
     "iopub.status.idle": "2025-08-18T00:26:37.900496Z",
     "shell.execute_reply": "2025-08-18T00:26:37.899599Z"
    },
    "executionInfo": {
     "elapsed": 60,
     "status": "ok",
     "timestamp": 1755056721491,
     "user": {
      "displayName": "Ahsan Mubarak",
      "userId": "13952536471194166156"
     },
     "user_tz": -420
    },
    "id": "UNZmjebfi3ig",
    "outputId": "1b2aae0f-a717-41e1-c98f-9bb7858ce2eb",
    "papermill": {
     "duration": 0.028348,
     "end_time": "2025-08-18T00:26:37.901954",
     "exception": false,
     "start_time": "2025-08-18T00:26:37.873606",
     "status": "completed"
    },
    "tags": []
   },
   "outputs": [
    {
     "data": {
      "text/plain": [
       "Keyword\n",
       "analytics for data        4.811841\n",
       "data analitics online     4.818048\n",
       "data analytics course     4.962386\n",
       "data anaytics training    4.985725\n",
       "learn data analytics      5.009865\n",
       "online data analytic      5.061192\n",
       "Name: Conversion_Rate, dtype: float64"
      ]
     },
     "execution_count": 34,
     "metadata": {},
     "output_type": "execute_result"
    }
   ],
   "source": [
    "df.groupby('Keyword')['Conversion_Rate'].mean()"
   ]
  },
  {
   "cell_type": "code",
   "execution_count": 35,
   "id": "4738cdaa",
   "metadata": {
    "execution": {
     "iopub.execute_input": "2025-08-18T00:26:37.936773Z",
     "iopub.status.busy": "2025-08-18T00:26:37.935748Z",
     "iopub.status.idle": "2025-08-18T00:26:38.220371Z",
     "shell.execute_reply": "2025-08-18T00:26:38.219320Z"
    },
    "papermill": {
     "duration": 0.303406,
     "end_time": "2025-08-18T00:26:38.221889",
     "exception": false,
     "start_time": "2025-08-18T00:26:37.918483",
     "status": "completed"
    },
    "tags": []
   },
   "outputs": [
    {
     "data": {
      "image/png": "[encoded data removed]",
      "text/plain": [
       "<Figure size 800x500 with 1 Axes>"
      ]
     },
     "metadata": {},
     "output_type": "display_data"
    }
   ],
   "source": [
    "import matplotlib.dates as mdates\n",
    "\n",
    "df['Ad_Date'] = pd.to_datetime(df['Ad_Date'], errors='coerce')\n",
    "\n",
    "df_grouped = df.groupby(pd.Grouper(key='Ad_Date', freq='3D')).agg({'Conversion_Rate': 'mean', 'CTR': 'mean'}).reset_index()\n",
    "\n",
    "plt.figure(figsize=(8, 5))\n",
    "\n",
    "plt.plot(df_grouped['Ad_Date'], df_grouped['Conversion_Rate'], label='Conversion_Rate', color='#3A86FF', marker='o')\n",
    "\n",
    "plt.plot(df_grouped['Ad_Date'], df_grouped['CTR'], label='CTR', color='#A0C4FF', marker='o')\n",
    "\n",
    "plt.title('Conversion Rate and CTR per 3 Days')\n",
    "plt.xlabel('Date')\n",
    "plt.ylabel('Average Value')\n",
    "plt.legend(fontsize=8)\n",
    "\n",
    "plt.gca().xaxis.set_major_formatter(mdates.DateFormatter('%b %d'))\n",
    "\n",
    "plt.xticks()\n",
    "\n",
    "ax = plt.gca()\n",
    "for side in ['top', 'right']:\n",
    "    ax.spines[side].set_visible(False)\n",
    "ax.spines['left'].set_color('gray')\n",
    "ax.spines['bottom'].set_color('gray')\n",
    "ax.spines['left'].set_linewidth(0.8)\n",
    "ax.spines['bottom'].set_linewidth(0.8)\n",
    "\n",
    "plt.grid(False)\n",
    "plt.tight_layout()\n",
    "plt.show()\n"
   ]
  },
  {
   "cell_type": "markdown",
   "id": "40255cc4",
   "metadata": {
    "papermill": {
     "duration": 0.016041,
     "end_time": "2025-08-18T00:26:38.254293",
     "exception": false,
     "start_time": "2025-08-18T00:26:38.238252",
     "status": "completed"
    },
    "tags": []
   },
   "source": [
    "**CR and CTR per 3 Days**\n",
    "\n",
    "* CR stays stable around 4.6%–5.2% with small fluctuations\n",
    "\n",
    "* CTR is lower at 3.1%–3.4%, also stable\n",
    "\n",
    "**Interpretation**\n",
    "\n",
    "CR and CTR movements don’t always align. A higher CTR doesn’t always mean a higher CR, which could mean that clicks are not always from high-quality traffic."
   ]
  },
  {
   "cell_type": "code",
   "execution_count": 36,
   "id": "fc40ab32",
   "metadata": {
    "execution": {
     "iopub.execute_input": "2025-08-18T00:26:38.289204Z",
     "iopub.status.busy": "2025-08-18T00:26:38.288419Z",
     "iopub.status.idle": "2025-08-18T00:26:38.299016Z",
     "shell.execute_reply": "2025-08-18T00:26:38.298100Z"
    },
    "papermill": {
     "duration": 0.030272,
     "end_time": "2025-08-18T00:26:38.300811",
     "exception": false,
     "start_time": "2025-08-18T00:26:38.270539",
     "status": "completed"
    },
    "tags": []
   },
   "outputs": [
    {
     "data": {
      "text/html": [
       "<div>\n",
       "<style scoped>\n",
       "    .dataframe tbody tr th:only-of-type {\n",
       "        vertical-align: middle;\n",
       "    }\n",
       "\n",
       "    .dataframe tbody tr th {\n",
       "        vertical-align: top;\n",
       "    }\n",
       "\n",
       "    .dataframe thead th {\n",
       "        text-align: right;\n",
       "    }\n",
       "</style>\n",
       "<table border=\"1\" class=\"dataframe\">\n",
       "  <thead>\n",
       "    <tr style=\"text-align: right;\">\n",
       "      <th></th>\n",
       "      <th>Conversion_Rate</th>\n",
       "      <th>CTR</th>\n",
       "    </tr>\n",
       "  </thead>\n",
       "  <tbody>\n",
       "    <tr>\n",
       "      <th>Conversion_Rate</th>\n",
       "      <td>1.000000</td>\n",
       "      <td>-0.389768</td>\n",
       "    </tr>\n",
       "    <tr>\n",
       "      <th>CTR</th>\n",
       "      <td>-0.389768</td>\n",
       "      <td>1.000000</td>\n",
       "    </tr>\n",
       "  </tbody>\n",
       "</table>\n",
       "</div>"
      ],
      "text/plain": [
       "                 Conversion_Rate       CTR\n",
       "Conversion_Rate         1.000000 -0.389768\n",
       "CTR                    -0.389768  1.000000"
      ]
     },
     "execution_count": 36,
     "metadata": {},
     "output_type": "execute_result"
    }
   ],
   "source": [
    "df[['Conversion_Rate', 'CTR']].corr()"
   ]
  },
  {
   "cell_type": "code",
   "execution_count": 37,
   "id": "25be0c63",
   "metadata": {
    "execution": {
     "iopub.execute_input": "2025-08-18T00:26:38.335984Z",
     "iopub.status.busy": "2025-08-18T00:26:38.335192Z",
     "iopub.status.idle": "2025-08-18T00:26:38.584509Z",
     "shell.execute_reply": "2025-08-18T00:26:38.583474Z"
    },
    "papermill": {
     "duration": 0.270005,
     "end_time": "2025-08-18T00:26:38.587997",
     "exception": false,
     "start_time": "2025-08-18T00:26:38.317992",
     "status": "completed"
    },
    "tags": []
   },
   "outputs": [
    {
     "data": {
      "image/png": "[encoded data removed]",
      "text/plain": [
       "<Figure size 800x500 with 1 Axes>"
      ]
     },
     "metadata": {},
     "output_type": "display_data"
    }
   ],
   "source": [
    "plt.figure(figsize=(8, 5))\n",
    "plt.scatter(df['Conversion_Rate'], df['CTR'], color='#3A86FF', alpha=0.7)\n",
    "plt.title('Conversion VS Click Through Rate')\n",
    "plt.xlabel('Conversion_Rate')\n",
    "plt.ylabel('Click Through Rate')\n",
    "\n",
    "ax = plt.gca()\n",
    "for side in ['top', 'right']:\n",
    "    ax.spines[side].set_visible(False)\n",
    "ax.spines['left'].set_color('gray')\n",
    "ax.spines['bottom'].set_color('gray')\n",
    "ax.spines['left'].set_linewidth(0.8)\n",
    "ax.spines['bottom'].set_linewidth(0.8)\n",
    "\n",
    "plt.grid(False)\n",
    "plt.tight_layout()\n",
    "plt.show()"
   ]
  },
  {
   "cell_type": "code",
   "execution_count": 38,
   "id": "4aa5ea28",
   "metadata": {
    "execution": {
     "iopub.execute_input": "2025-08-18T00:26:38.631642Z",
     "iopub.status.busy": "2025-08-18T00:26:38.631343Z",
     "iopub.status.idle": "2025-08-18T00:26:38.638291Z",
     "shell.execute_reply": "2025-08-18T00:26:38.637416Z"
    },
    "executionInfo": {
     "elapsed": 33,
     "status": "ok",
     "timestamp": 1755056721492,
     "user": {
      "displayName": "Ahsan Mubarak",
      "userId": "13952536471194166156"
     },
     "user_tz": -420
    },
    "id": "yt7EKv-Eb0Vb",
    "outputId": "88775383-6176-49ae-f098-f37edb8724ab",
    "papermill": {
     "duration": 0.030213,
     "end_time": "2025-08-18T00:26:38.640245",
     "exception": false,
     "start_time": "2025-08-18T00:26:38.610032",
     "status": "completed"
    },
    "tags": []
   },
   "outputs": [
    {
     "data": {
      "text/plain": [
       "6.027107692307692"
      ]
     },
     "execution_count": 38,
     "metadata": {},
     "output_type": "execute_result"
    }
   ],
   "source": [
    "df['ROI'].mean()"
   ]
  },
  {
   "cell_type": "code",
   "execution_count": 39,
   "id": "1a97e19a",
   "metadata": {
    "execution": {
     "iopub.execute_input": "2025-08-18T00:26:38.683338Z",
     "iopub.status.busy": "2025-08-18T00:26:38.682972Z",
     "iopub.status.idle": "2025-08-18T00:26:38.691543Z",
     "shell.execute_reply": "2025-08-18T00:26:38.690611Z"
    },
    "executionInfo": {
     "elapsed": 23,
     "status": "ok",
     "timestamp": 1755056721493,
     "user": {
      "displayName": "Ahsan Mubarak",
      "userId": "13952536471194166156"
     },
     "user_tz": -420
    },
    "id": "4fBK7n7EfbiU",
    "outputId": "44302b51-660a-4b7f-a2bb-044ae7a13952",
    "papermill": {
     "duration": 0.030778,
     "end_time": "2025-08-18T00:26:38.693204",
     "exception": false,
     "start_time": "2025-08-18T00:26:38.662426",
     "status": "completed"
    },
    "tags": []
   },
   "outputs": [
    {
     "data": {
      "text/plain": [
       "min     3.07\n",
       "max    10.05\n",
       "Name: ROI, dtype: float64"
      ]
     },
     "execution_count": 39,
     "metadata": {},
     "output_type": "execute_result"
    }
   ],
   "source": [
    "df['ROI'].agg(['min', 'max'])"
   ]
  },
  {
   "cell_type": "code",
   "execution_count": 40,
   "id": "80114fbe",
   "metadata": {
    "execution": {
     "iopub.execute_input": "2025-08-18T00:26:38.735458Z",
     "iopub.status.busy": "2025-08-18T00:26:38.735135Z",
     "iopub.status.idle": "2025-08-18T00:26:38.974430Z",
     "shell.execute_reply": "2025-08-18T00:26:38.973417Z"
    },
    "executionInfo": {
     "elapsed": 269,
     "status": "ok",
     "timestamp": 1755056721755,
     "user": {
      "displayName": "Ahsan Mubarak",
      "userId": "13952536471194166156"
     },
     "user_tz": -420
    },
    "id": "HhNVSAHIcEIK",
    "outputId": "0c70716d-c148-4f59-d084-4a297ffeb72d",
    "papermill": {
     "duration": 0.26292,
     "end_time": "2025-08-18T00:26:38.976003",
     "exception": false,
     "start_time": "2025-08-18T00:26:38.713083",
     "status": "completed"
    },
    "tags": []
   },
   "outputs": [
    {
     "name": "stderr",
     "output_type": "stream",
     "text": [
      "/usr/local/lib/python3.11/dist-packages/seaborn/_oldcore.py:1119: FutureWarning: use_inf_as_na option is deprecated and will be removed in a future version. Convert inf values to NaN before operating instead.\n",
      "  with pd.option_context('mode.use_inf_as_na', True):\n"
     ]
    },
    {
     "data": {
      "image/png": "[encoded data removed]",
      "text/plain": [
       "<Figure size 640x480 with 1 Axes>"
      ]
     },
     "metadata": {},
     "output_type": "display_data"
    }
   ],
   "source": [
    "sns.histplot(df['ROI'])\n",
    "ax = plt.gca()\n",
    "ax.spines['top'].set_visible(False)\n",
    "ax.spines['right'].set_visible(False)\n",
    "ax.spines['left'].set_color('gray')\n",
    "ax.spines['bottom'].set_color('gray')\n",
    "ax.spines['left'].set_linewidth(0.8)\n",
    "ax.spines['bottom'].set_linewidth(0.8)"
   ]
  },
  {
   "cell_type": "code",
   "execution_count": 41,
   "id": "e1f714b2",
   "metadata": {
    "execution": {
     "iopub.execute_input": "2025-08-18T00:26:39.019468Z",
     "iopub.status.busy": "2025-08-18T00:26:39.019131Z",
     "iopub.status.idle": "2025-08-18T00:26:39.039446Z",
     "shell.execute_reply": "2025-08-18T00:26:39.038462Z"
    },
    "executionInfo": {
     "elapsed": 135,
     "status": "ok",
     "timestamp": 1755056722179,
     "user": {
      "displayName": "Ahsan Mubarak",
      "userId": "13952536471194166156"
     },
     "user_tz": -420
    },
    "id": "9UbGq3sJmogI",
    "outputId": "f1911d44-7d9c-44e6-b411-02f5cc394d84",
    "papermill": {
     "duration": 0.043723,
     "end_time": "2025-08-18T00:26:39.040913",
     "exception": false,
     "start_time": "2025-08-18T00:26:38.997190",
     "status": "completed"
    },
    "tags": []
   },
   "outputs": [
    {
     "data": {
      "text/html": [
       "<div>\n",
       "<style scoped>\n",
       "    .dataframe tbody tr th:only-of-type {\n",
       "        vertical-align: middle;\n",
       "    }\n",
       "\n",
       "    .dataframe tbody tr th {\n",
       "        vertical-align: top;\n",
       "    }\n",
       "\n",
       "    .dataframe thead th {\n",
       "        text-align: right;\n",
       "    }\n",
       "</style>\n",
       "<table border=\"1\" class=\"dataframe\">\n",
       "  <thead>\n",
       "    <tr style=\"text-align: right;\">\n",
       "      <th></th>\n",
       "      <th>Ad_ID</th>\n",
       "      <th>Campaign_Name</th>\n",
       "      <th>Clicks</th>\n",
       "      <th>Impressions</th>\n",
       "      <th>Cost</th>\n",
       "      <th>Leads</th>\n",
       "      <th>Conversions</th>\n",
       "      <th>Conversion_Rate</th>\n",
       "      <th>Sales_Amount</th>\n",
       "      <th>Ad_Date</th>\n",
       "      <th>Location</th>\n",
       "      <th>Device</th>\n",
       "      <th>Keyword</th>\n",
       "      <th>ROI</th>\n",
       "      <th>CTR</th>\n",
       "    </tr>\n",
       "  </thead>\n",
       "  <tbody>\n",
       "    <tr>\n",
       "      <th>0</th>\n",
       "      <td>A1000</td>\n",
       "      <td>Data Analytics Course</td>\n",
       "      <td>104</td>\n",
       "      <td>4498</td>\n",
       "      <td>231.88</td>\n",
       "      <td>14</td>\n",
       "      <td>7</td>\n",
       "      <td>5.80</td>\n",
       "      <td>1892.0</td>\n",
       "      <td>2024-11-16</td>\n",
       "      <td>Hyderabad</td>\n",
       "      <td>desktop</td>\n",
       "      <td>learn data analytics</td>\n",
       "      <td>7.16</td>\n",
       "      <td>2.31</td>\n",
       "    </tr>\n",
       "    <tr>\n",
       "      <th>1</th>\n",
       "      <td>A1001</td>\n",
       "      <td>Data Analytics Course</td>\n",
       "      <td>173</td>\n",
       "      <td>5107</td>\n",
       "      <td>216.84</td>\n",
       "      <td>10</td>\n",
       "      <td>8</td>\n",
       "      <td>4.60</td>\n",
       "      <td>1679.0</td>\n",
       "      <td>2024-11-20</td>\n",
       "      <td>Hyderabad</td>\n",
       "      <td>mobile</td>\n",
       "      <td>data analytics course</td>\n",
       "      <td>6.74</td>\n",
       "      <td>3.39</td>\n",
       "    </tr>\n",
       "    <tr>\n",
       "      <th>2</th>\n",
       "      <td>A1002</td>\n",
       "      <td>Data Analytics Course</td>\n",
       "      <td>90</td>\n",
       "      <td>4544</td>\n",
       "      <td>203.66</td>\n",
       "      <td>26</td>\n",
       "      <td>9</td>\n",
       "      <td>10.00</td>\n",
       "      <td>1624.0</td>\n",
       "      <td>2024-11-16</td>\n",
       "      <td>Hyderabad</td>\n",
       "      <td>desktop</td>\n",
       "      <td>data analitics online</td>\n",
       "      <td>6.97</td>\n",
       "      <td>1.98</td>\n",
       "    </tr>\n",
       "    <tr>\n",
       "      <th>3</th>\n",
       "      <td>A1003</td>\n",
       "      <td>Data Analytics Course</td>\n",
       "      <td>142</td>\n",
       "      <td>3185</td>\n",
       "      <td>237.66</td>\n",
       "      <td>17</td>\n",
       "      <td>6</td>\n",
       "      <td>4.23</td>\n",
       "      <td>1225.0</td>\n",
       "      <td>2024-11-26</td>\n",
       "      <td>Hyderabad</td>\n",
       "      <td>tablet</td>\n",
       "      <td>data anaytics training</td>\n",
       "      <td>4.15</td>\n",
       "      <td>4.46</td>\n",
       "    </tr>\n",
       "    <tr>\n",
       "      <th>4</th>\n",
       "      <td>A1004</td>\n",
       "      <td>Data Analytics Course</td>\n",
       "      <td>156</td>\n",
       "      <td>3361</td>\n",
       "      <td>195.90</td>\n",
       "      <td>30</td>\n",
       "      <td>8</td>\n",
       "      <td>5.13</td>\n",
       "      <td>1091.0</td>\n",
       "      <td>2024-11-22</td>\n",
       "      <td>Hyderabad</td>\n",
       "      <td>desktop</td>\n",
       "      <td>online data analytic</td>\n",
       "      <td>4.57</td>\n",
       "      <td>4.64</td>\n",
       "    </tr>\n",
       "    <tr>\n",
       "      <th>...</th>\n",
       "      <td>...</td>\n",
       "      <td>...</td>\n",
       "      <td>...</td>\n",
       "      <td>...</td>\n",
       "      <td>...</td>\n",
       "      <td>...</td>\n",
       "      <td>...</td>\n",
       "      <td>...</td>\n",
       "      <td>...</td>\n",
       "      <td>...</td>\n",
       "      <td>...</td>\n",
       "      <td>...</td>\n",
       "      <td>...</td>\n",
       "      <td>...</td>\n",
       "      <td>...</td>\n",
       "    </tr>\n",
       "    <tr>\n",
       "      <th>2595</th>\n",
       "      <td>A3595</td>\n",
       "      <td>Data Analytics Course</td>\n",
       "      <td>88</td>\n",
       "      <td>5344</td>\n",
       "      <td>242.07</td>\n",
       "      <td>17</td>\n",
       "      <td>9</td>\n",
       "      <td>5.40</td>\n",
       "      <td>1418.0</td>\n",
       "      <td>2024-11-29</td>\n",
       "      <td>Hyderabad</td>\n",
       "      <td>mobile</td>\n",
       "      <td>online data analytic</td>\n",
       "      <td>4.86</td>\n",
       "      <td>1.65</td>\n",
       "    </tr>\n",
       "    <tr>\n",
       "      <th>2596</th>\n",
       "      <td>A3596</td>\n",
       "      <td>Data Analytics Course</td>\n",
       "      <td>154</td>\n",
       "      <td>3211</td>\n",
       "      <td>248.28</td>\n",
       "      <td>14</td>\n",
       "      <td>6</td>\n",
       "      <td>3.90</td>\n",
       "      <td>1950.0</td>\n",
       "      <td>2024-11-28</td>\n",
       "      <td>Hyderabad</td>\n",
       "      <td>tablet</td>\n",
       "      <td>data analitics online</td>\n",
       "      <td>6.85</td>\n",
       "      <td>4.80</td>\n",
       "    </tr>\n",
       "    <tr>\n",
       "      <th>2597</th>\n",
       "      <td>A3597</td>\n",
       "      <td>Data Analytics Course</td>\n",
       "      <td>113</td>\n",
       "      <td>3808</td>\n",
       "      <td>233.25</td>\n",
       "      <td>18</td>\n",
       "      <td>4</td>\n",
       "      <td>3.50</td>\n",
       "      <td>1085.0</td>\n",
       "      <td>2024-11-02</td>\n",
       "      <td>Hyderabad</td>\n",
       "      <td>desktop</td>\n",
       "      <td>data anaytics training</td>\n",
       "      <td>3.65</td>\n",
       "      <td>2.97</td>\n",
       "    </tr>\n",
       "    <tr>\n",
       "      <th>2598</th>\n",
       "      <td>A3598</td>\n",
       "      <td>Data Analytics Course</td>\n",
       "      <td>196</td>\n",
       "      <td>5853</td>\n",
       "      <td>220.13</td>\n",
       "      <td>16</td>\n",
       "      <td>7</td>\n",
       "      <td>3.60</td>\n",
       "      <td>1558.0</td>\n",
       "      <td>2024-11-08</td>\n",
       "      <td>Hyderabad</td>\n",
       "      <td>tablet</td>\n",
       "      <td>data anaytics training</td>\n",
       "      <td>6.08</td>\n",
       "      <td>3.35</td>\n",
       "    </tr>\n",
       "    <tr>\n",
       "      <th>2599</th>\n",
       "      <td>A3599</td>\n",
       "      <td>Data Analytics Course</td>\n",
       "      <td>138</td>\n",
       "      <td>5453</td>\n",
       "      <td>215.09</td>\n",
       "      <td>12</td>\n",
       "      <td>5</td>\n",
       "      <td>4.94</td>\n",
       "      <td>1174.0</td>\n",
       "      <td>2024-11-22</td>\n",
       "      <td>Hyderabad</td>\n",
       "      <td>desktop</td>\n",
       "      <td>analytics for data</td>\n",
       "      <td>4.46</td>\n",
       "      <td>2.53</td>\n",
       "    </tr>\n",
       "  </tbody>\n",
       "</table>\n",
       "<p>2600 rows × 15 columns</p>\n",
       "</div>"
      ],
      "text/plain": [
       "      Ad_ID          Campaign_Name  Clicks  Impressions    Cost  Leads  \\\n",
       "0     A1000  Data Analytics Course     104         4498  231.88     14   \n",
       "1     A1001  Data Analytics Course     173         5107  216.84     10   \n",
       "2     A1002  Data Analytics Course      90         4544  203.66     26   \n",
       "3     A1003  Data Analytics Course     142         3185  237.66     17   \n",
       "4     A1004  Data Analytics Course     156         3361  195.90     30   \n",
       "...     ...                    ...     ...          ...     ...    ...   \n",
       "2595  A3595  Data Analytics Course      88         5344  242.07     17   \n",
       "2596  A3596  Data Analytics Course     154         3211  248.28     14   \n",
       "2597  A3597  Data Analytics Course     113         3808  233.25     18   \n",
       "2598  A3598  Data Analytics Course     196         5853  220.13     16   \n",
       "2599  A3599  Data Analytics Course     138         5453  215.09     12   \n",
       "\n",
       "      Conversions  Conversion_Rate  Sales_Amount    Ad_Date   Location  \\\n",
       "0               7             5.80        1892.0 2024-11-16  Hyderabad   \n",
       "1               8             4.60        1679.0 2024-11-20  Hyderabad   \n",
       "2               9            10.00        1624.0 2024-11-16  Hyderabad   \n",
       "3               6             4.23        1225.0 2024-11-26  Hyderabad   \n",
       "4               8             5.13        1091.0 2024-11-22  Hyderabad   \n",
       "...           ...              ...           ...        ...        ...   \n",
       "2595            9             5.40        1418.0 2024-11-29  Hyderabad   \n",
       "2596            6             3.90        1950.0 2024-11-28  Hyderabad   \n",
       "2597            4             3.50        1085.0 2024-11-02  Hyderabad   \n",
       "2598            7             3.60        1558.0 2024-11-08  Hyderabad   \n",
       "2599            5             4.94        1174.0 2024-11-22  Hyderabad   \n",
       "\n",
       "       Device                 Keyword   ROI   CTR  \n",
       "0     desktop    learn data analytics  7.16  2.31  \n",
       "1      mobile   data analytics course  6.74  3.39  \n",
       "2     desktop   data analitics online  6.97  1.98  \n",
       "3      tablet  data anaytics training  4.15  4.46  \n",
       "4     desktop    online data analytic  4.57  4.64  \n",
       "...       ...                     ...   ...   ...  \n",
       "2595   mobile    online data analytic  4.86  1.65  \n",
       "2596   tablet   data analitics online  6.85  4.80  \n",
       "2597  desktop  data anaytics training  3.65  2.97  \n",
       "2598   tablet  data anaytics training  6.08  3.35  \n",
       "2599  desktop      analytics for data  4.46  2.53  \n",
       "\n",
       "[2600 rows x 15 columns]"
      ]
     },
     "execution_count": 41,
     "metadata": {},
     "output_type": "execute_result"
    }
   ],
   "source": [
    "df"
   ]
  },
  {
   "cell_type": "code",
   "execution_count": 42,
   "id": "17206fe4",
   "metadata": {
    "execution": {
     "iopub.execute_input": "2025-08-18T00:26:39.082969Z",
     "iopub.status.busy": "2025-08-18T00:26:39.082604Z",
     "iopub.status.idle": "2025-08-18T00:26:44.623587Z",
     "shell.execute_reply": "2025-08-18T00:26:44.622286Z"
    },
    "papermill": {
     "duration": 5.56467,
     "end_time": "2025-08-18T00:26:44.625635",
     "exception": false,
     "start_time": "2025-08-18T00:26:39.060965",
     "status": "completed"
    },
    "tags": []
   },
   "outputs": [
    {
     "name": "stdout",
     "output_type": "stream",
     "text": [
      "Requirement already satisfied: squarify in /usr/local/lib/python3.11/dist-packages (0.4.4)\r\n"
     ]
    },
    {
     "data": {
      "image/png": "[encoded data removed]",
      "text/plain": [
       "<Figure size 1000x600 with 1 Axes>"
      ]
     },
     "metadata": {},
     "output_type": "display_data"
    }
   ],
   "source": [
    "!pip install squarify\n",
    "\n",
    "import squarify\n",
    "\n",
    "sizes = df.groupby('Ad_ID')['ROI'].mean().nlargest(10).sort_values(ascending=True)\n",
    "\n",
    "labels = [f'{cat}\\n{val:.2f}%' for cat, val in zip(sizes.index, sizes.values)]\n",
    "\n",
    "colors = sns.color_palette(\"Blues\", n_colors=len(sizes))\n",
    "\n",
    "plt.figure(figsize=(10, 6))\n",
    "squarify.plot(\n",
    "    sizes=sizes.values,\n",
    "    label=labels,\n",
    "    color=colors,\n",
    "    alpha=0.9\n",
    ")\n",
    "plt.axis('off')\n",
    "plt.title('Ads with the highest (ROI %)', fontsize=14)\n",
    "plt.show()\n"
   ]
  },
  {
   "cell_type": "markdown",
   "id": "0a37887a",
   "metadata": {
    "papermill": {
     "duration": 0.023501,
     "end_time": "2025-08-18T00:26:44.672574",
     "exception": false,
     "start_time": "2025-08-18T00:26:44.649073",
     "status": "completed"
    },
    "tags": []
   },
   "source": [
    "**Ads with The Highest ROI**\n",
    "\n",
    "* Ad A2660 has the highest ROI (10.05%), followed by A2585 (9.99%) and A3459 (9.96%)\n",
    "\n",
    "* ROI differences among the top 10 ads are very small (<0.3%)\n",
    "\n",
    "**Interpretation**\n",
    "\n",
    "Improving already high-ROI ads could have a significant overall impact."
   ]
  },
  {
   "cell_type": "code",
   "execution_count": 43,
   "id": "f6436bb9",
   "metadata": {
    "execution": {
     "iopub.execute_input": "2025-08-18T00:26:44.720386Z",
     "iopub.status.busy": "2025-08-18T00:26:44.720042Z",
     "iopub.status.idle": "2025-08-18T00:26:44.732274Z",
     "shell.execute_reply": "2025-08-18T00:26:44.731132Z"
    },
    "executionInfo": {
     "elapsed": 26,
     "status": "ok",
     "timestamp": 1755056722839,
     "user": {
      "displayName": "Ahsan Mubarak",
      "userId": "13952536471194166156"
     },
     "user_tz": -420
    },
    "id": "S9yBXYSgsfpA",
    "outputId": "51a61ccf-fd6d-4ba5-bf6b-c5759ad91b3f",
    "papermill": {
     "duration": 0.03777,
     "end_time": "2025-08-18T00:26:44.733958",
     "exception": false,
     "start_time": "2025-08-18T00:26:44.696188",
     "status": "completed"
    },
    "tags": []
   },
   "outputs": [
    {
     "data": {
      "text/html": [
       "<div>\n",
       "<style scoped>\n",
       "    .dataframe tbody tr th:only-of-type {\n",
       "        vertical-align: middle;\n",
       "    }\n",
       "\n",
       "    .dataframe tbody tr th {\n",
       "        vertical-align: top;\n",
       "    }\n",
       "\n",
       "    .dataframe thead th {\n",
       "        text-align: right;\n",
       "    }\n",
       "</style>\n",
       "<table border=\"1\" class=\"dataframe\">\n",
       "  <thead>\n",
       "    <tr style=\"text-align: right;\">\n",
       "      <th></th>\n",
       "      <th>Conversion_Rate</th>\n",
       "      <th>ROI</th>\n",
       "    </tr>\n",
       "  </thead>\n",
       "  <tbody>\n",
       "    <tr>\n",
       "      <th>Conversion_Rate</th>\n",
       "      <td>1.000000</td>\n",
       "      <td>-0.032736</td>\n",
       "    </tr>\n",
       "    <tr>\n",
       "      <th>ROI</th>\n",
       "      <td>-0.032736</td>\n",
       "      <td>1.000000</td>\n",
       "    </tr>\n",
       "  </tbody>\n",
       "</table>\n",
       "</div>"
      ],
      "text/plain": [
       "                 Conversion_Rate       ROI\n",
       "Conversion_Rate         1.000000 -0.032736\n",
       "ROI                    -0.032736  1.000000"
      ]
     },
     "execution_count": 43,
     "metadata": {},
     "output_type": "execute_result"
    }
   ],
   "source": [
    "df[['Conversion_Rate', 'ROI']].corr()"
   ]
  },
  {
   "cell_type": "code",
   "execution_count": 44,
   "id": "ec426743",
   "metadata": {
    "execution": {
     "iopub.execute_input": "2025-08-18T00:26:44.778697Z",
     "iopub.status.busy": "2025-08-18T00:26:44.778378Z",
     "iopub.status.idle": "2025-08-18T00:26:44.785006Z",
     "shell.execute_reply": "2025-08-18T00:26:44.783900Z"
    },
    "executionInfo": {
     "elapsed": 16,
     "status": "ok",
     "timestamp": 1755056923226,
     "user": {
      "displayName": "Ahsan Mubarak",
      "userId": "13952536471194166156"
     },
     "user_tz": -420
    },
    "id": "riPqOH1WixMh",
    "outputId": "b8979e51-8ddf-4471-bed0-1a36f73833ca",
    "papermill": {
     "duration": 0.031808,
     "end_time": "2025-08-18T00:26:44.786798",
     "exception": false,
     "start_time": "2025-08-18T00:26:44.754990",
     "status": "completed"
    },
    "tags": []
   },
   "outputs": [
    {
     "data": {
      "text/plain": [
       "11760515"
      ]
     },
     "execution_count": 44,
     "metadata": {},
     "output_type": "execute_result"
    }
   ],
   "source": [
    "df['Impressions'].sum()"
   ]
  },
  {
   "cell_type": "code",
   "execution_count": 45,
   "id": "88dbf3e8",
   "metadata": {
    "execution": {
     "iopub.execute_input": "2025-08-18T00:26:44.834016Z",
     "iopub.status.busy": "2025-08-18T00:26:44.833627Z",
     "iopub.status.idle": "2025-08-18T00:26:48.232751Z",
     "shell.execute_reply": "2025-08-18T00:26:48.231898Z"
    },
    "executionInfo": {
     "elapsed": 3778,
     "status": "ok",
     "timestamp": 1755056727093,
     "user": {
      "displayName": "Ahsan Mubarak",
      "userId": "13952536471194166156"
     },
     "user_tz": -420
    },
    "id": "dIyMFbFik5U4",
    "outputId": "14027b36-7131-40aa-fdad-91b8758f32bb",
    "papermill": {
     "duration": 3.426005,
     "end_time": "2025-08-18T00:26:48.234414",
     "exception": false,
     "start_time": "2025-08-18T00:26:44.808409",
     "status": "completed"
    },
    "tags": []
   },
   "outputs": [
    {
     "data": {
      "text/html": [
       "<html>\n",
       "<head><meta charset=\"utf-8\" /></head>\n",
       "<body>\n",
       "    <div>            <script src=\"https://cdnjs.cloudflare.com/ajax/libs/mathjax/2.7.5/MathJax.js?config=TeX-AMS-MML_SVG\"></script><script type=\"text/javascript\">if (window.MathJax && window.MathJax.Hub && window.MathJax.Hub.Config) {window.MathJax.Hub.Config({SVG: {font: \"STIX-Web\"}});}</script>                <script type=\"text/javascript\">window.PlotlyConfig = {MathJaxConfig: 'local'};</script>\n",
       "        <script charset=\"utf-8\" src=\"https://cdn.plot.ly/plotly-2.35.2.min.js\"></script>                <div id=\"0538e6b0-275d-47f7-b477-383c6a66adf8\" class=\"plotly-graph-div\" style=\"height:525px; width:100%;\"></div>            <script type=\"text/javascript\">                                    window.PLOTLYENV=window.PLOTLYENV || {};                                    if (document.getElementById(\"0538e6b0-275d-47f7-b477-383c6a66adf8\")) {                    Plotly.newPlot(                        \"0538e6b0-275d-47f7-b477-383c6a66adf8\",                        [{\"hovertemplate\":\"Value=%{x}\\u003cbr\\u003eStage=%{y}\\u003cextra\\u003e\\u003c\\u002fextra\\u003e\",\"legendgroup\":\"\",\"marker\":{\"color\":\"#636efa\"},\"name\":\"\",\"orientation\":\"h\",\"showlegend\":false,\"x\":[11760515,361181,52010,16911],\"xaxis\":\"x\",\"y\":[\"Impressions\",\"Clicks\",\"Leads\",\"Conversions\"],\"yaxis\":\"y\",\"type\":\"funnel\"}],                        {\"template\":{\"data\":{\"histogram2dcontour\":[{\"type\":\"histogram2dcontour\",\"colorbar\":{\"outlinewidth\":0,\"ticks\":\"\"},\"colorscale\":[[0.0,\"#0d0887\"],[0.1111111111111111,\"#46039f\"],[0.2222222222222222,\"#7201a8\"],[0.3333333333333333,\"#9c179e\"],[0.4444444444444444,\"#bd3786\"],[0.5555555555555556,\"#d8576b\"],[0.6666666666666666,\"#ed7953\"],[0.7777777777777778,\"#fb9f3a\"],[0.8888888888888888,\"#fdca26\"],[1.0,\"#f0f921\"]]}],\"choropleth\":[{\"type\":\"choropleth\",\"colorbar\":{\"outlinewidth\":0,\"ticks\":\"\"}}],\"histogram2d\":[{\"type\":\"histogram2d\",\"colorbar\":{\"outlinewidth\":0,\"ticks\":\"\"},\"colorscale\":[[0.0,\"#0d0887\"],[0.1111111111111111,\"#46039f\"],[0.2222222222222222,\"#7201a8\"],[0.3333333333333333,\"#9c179e\"],[0.4444444444444444,\"#bd3786\"],[0.5555555555555556,\"#d8576b\"],[0.6666666666666666,\"#ed7953\"],[0.7777777777777778,\"#fb9f3a\"],[0.8888888888888888,\"#fdca26\"],[1.0,\"#f0f921\"]]}],\"heatmap\":[{\"type\":\"heatmap\",\"colorbar\":{\"outlinewidth\":0,\"ticks\":\"\"},\"colorscale\":[[0.0,\"#0d0887\"],[0.1111111111111111,\"#46039f\"],[0.2222222222222222,\"#7201a8\"],[0.3333333333333333,\"#9c179e\"],[0.4444444444444444,\"#bd3786\"],[0.5555555555555556,\"#d8576b\"],[0.6666666666666666,\"#ed7953\"],[0.7777777777777778,\"#fb9f3a\"],[0.8888888888888888,\"#fdca26\"],[1.0,\"#f0f921\"]]}],\"heatmapgl\":[{\"type\":\"heatmapgl\",\"colorbar\":{\"outlinewidth\":0,\"ticks\":\"\"},\"colorscale\":[[0.0,\"#0d0887\"],[0.1111111111111111,\"#46039f\"],[0.2222222222222222,\"#7201a8\"],[0.3333333333333333,\"#9c179e\"],[0.4444444444444444,\"#bd3786\"],[0.5555555555555556,\"#d8576b\"],[0.6666666666666666,\"#ed7953\"],[0.7777777777777778,\"#fb9f3a\"],[0.8888888888888888,\"#fdca26\"],[1.0,\"#f0f921\"]]}],\"contourcarpet\":[{\"type\":\"contourcarpet\",\"colorbar\":{\"outlinewidth\":0,\"ticks\":\"\"}}],\"contour\":[{\"type\":\"contour\",\"colorbar\":{\"outlinewidth\":0,\"ticks\":\"\"},\"colorscale\":[[0.0,\"#0d0887\"],[0.1111111111111111,\"#46039f\"],[0.2222222222222222,\"#7201a8\"],[0.3333333333333333,\"#9c179e\"],[0.4444444444444444,\"#bd3786\"],[0.5555555555555556,\"#d8576b\"],[0.6666666666666666,\"#ed7953\"],[0.7777777777777778,\"#fb9f3a\"],[0.8888888888888888,\"#fdca26\"],[1.0,\"#f0f921\"]]}],\"surface\":[{\"type\":\"surface\",\"colorbar\":{\"outlinewidth\":0,\"ticks\":\"\"},\"colorscale\":[[0.0,\"#0d0887\"],[0.1111111111111111,\"#46039f\"],[0.2222222222222222,\"#7201a8\"],[0.3333333333333333,\"#9c179e\"],[0.4444444444444444,\"#bd3786\"],[0.5555555555555556,\"#d8576b\"],[0.6666666666666666,\"#ed7953\"],[0.7777777777777778,\"#fb9f3a\"],[0.8888888888888888,\"#fdca26\"],[1.0,\"#f0f921\"]]}],\"mesh3d\":[{\"type\":\"mesh3d\",\"colorbar\":{\"outlinewidth\":0,\"ticks\":\"\"}}],\"scatter\":[{\"fillpattern\":{\"fillmode\":\"overlay\",\"size\":10,\"solidity\":0.2},\"type\":\"scatter\"}],\"parcoords\":[{\"type\":\"parcoords\",\"line\":{\"colorbar\":{\"outlinewidth\":0,\"ticks\":\"\"}}}],\"scatterpolargl\":[{\"type\":\"scatterpolargl\",\"marker\":{\"colorbar\":{\"outlinewidth\":0,\"ticks\":\"\"}}}],\"bar\":[{\"error_x\":{\"color\":\"#2a3f5f\"},\"error_y\":{\"color\":\"#2a3f5f\"},\"marker\":{\"line\":{\"color\":\"#E5ECF6\",\"width\":0.5},\"pattern\":{\"fillmode\":\"overlay\",\"size\":10,\"solidity\":0.2}},\"type\":\"bar\"}],\"scattergeo\":[{\"type\":\"scattergeo\",\"marker\":{\"colorbar\":{\"outlinewidth\":0,\"ticks\":\"\"}}}],\"scatterpolar\":[{\"type\":\"scatterpolar\",\"marker\":{\"colorbar\":{\"outlinewidth\":0,\"ticks\":\"\"}}}],\"histogram\":[{\"marker\":{\"pattern\":{\"fillmode\":\"overlay\",\"size\":10,\"solidity\":0.2}},\"type\":\"histogram\"}],\"scattergl\":[{\"type\":\"scattergl\",\"marker\":{\"colorbar\":{\"outlinewidth\":0,\"ticks\":\"\"}}}],\"scatter3d\":[{\"type\":\"scatter3d\",\"line\":{\"colorbar\":{\"outlinewidth\":0,\"ticks\":\"\"}},\"marker\":{\"colorbar\":{\"outlinewidth\":0,\"ticks\":\"\"}}}],\"scattermapbox\":[{\"type\":\"scattermapbox\",\"marker\":{\"colorbar\":{\"outlinewidth\":0,\"ticks\":\"\"}}}],\"scatterternary\":[{\"type\":\"scatterternary\",\"marker\":{\"colorbar\":{\"outlinewidth\":0,\"ticks\":\"\"}}}],\"scattercarpet\":[{\"type\":\"scattercarpet\",\"marker\":{\"colorbar\":{\"outlinewidth\":0,\"ticks\":\"\"}}}],\"carpet\":[{\"aaxis\":{\"endlinecolor\":\"#2a3f5f\",\"gridcolor\":\"white\",\"linecolor\":\"white\",\"minorgridcolor\":\"white\",\"startlinecolor\":\"#2a3f5f\"},\"baxis\":{\"endlinecolor\":\"#2a3f5f\",\"gridcolor\":\"white\",\"linecolor\":\"white\",\"minorgridcolor\":\"white\",\"startlinecolor\":\"#2a3f5f\"},\"type\":\"carpet\"}],\"table\":[{\"cells\":{\"fill\":{\"color\":\"#EBF0F8\"},\"line\":{\"color\":\"white\"}},\"header\":{\"fill\":{\"color\":\"#C8D4E3\"},\"line\":{\"color\":\"white\"}},\"type\":\"table\"}],\"barpolar\":[{\"marker\":{\"line\":{\"color\":\"#E5ECF6\",\"width\":0.5},\"pattern\":{\"fillmode\":\"overlay\",\"size\":10,\"solidity\":0.2}},\"type\":\"barpolar\"}],\"pie\":[{\"automargin\":true,\"type\":\"pie\"}]},\"layout\":{\"autotypenumbers\":\"strict\",\"colorway\":[\"#636efa\",\"#EF553B\",\"#00cc96\",\"#ab63fa\",\"#FFA15A\",\"#19d3f3\",\"#FF6692\",\"#B6E880\",\"#FF97FF\",\"#FECB52\"],\"font\":{\"color\":\"#2a3f5f\"},\"hovermode\":\"closest\",\"hoverlabel\":{\"align\":\"left\"},\"paper_bgcolor\":\"white\",\"plot_bgcolor\":\"#E5ECF6\",\"polar\":{\"bgcolor\":\"#E5ECF6\",\"angularaxis\":{\"gridcolor\":\"white\",\"linecolor\":\"white\",\"ticks\":\"\"},\"radialaxis\":{\"gridcolor\":\"white\",\"linecolor\":\"white\",\"ticks\":\"\"}},\"ternary\":{\"bgcolor\":\"#E5ECF6\",\"aaxis\":{\"gridcolor\":\"white\",\"linecolor\":\"white\",\"ticks\":\"\"},\"baxis\":{\"gridcolor\":\"white\",\"linecolor\":\"white\",\"ticks\":\"\"},\"caxis\":{\"gridcolor\":\"white\",\"linecolor\":\"white\",\"ticks\":\"\"}},\"coloraxis\":{\"colorbar\":{\"outlinewidth\":0,\"ticks\":\"\"}},\"colorscale\":{\"sequential\":[[0.0,\"#0d0887\"],[0.1111111111111111,\"#46039f\"],[0.2222222222222222,\"#7201a8\"],[0.3333333333333333,\"#9c179e\"],[0.4444444444444444,\"#bd3786\"],[0.5555555555555556,\"#d8576b\"],[0.6666666666666666,\"#ed7953\"],[0.7777777777777778,\"#fb9f3a\"],[0.8888888888888888,\"#fdca26\"],[1.0,\"#f0f921\"]],\"sequentialminus\":[[0.0,\"#0d0887\"],[0.1111111111111111,\"#46039f\"],[0.2222222222222222,\"#7201a8\"],[0.3333333333333333,\"#9c179e\"],[0.4444444444444444,\"#bd3786\"],[0.5555555555555556,\"#d8576b\"],[0.6666666666666666,\"#ed7953\"],[0.7777777777777778,\"#fb9f3a\"],[0.8888888888888888,\"#fdca26\"],[1.0,\"#f0f921\"]],\"diverging\":[[0,\"#8e0152\"],[0.1,\"#c51b7d\"],[0.2,\"#de77ae\"],[0.3,\"#f1b6da\"],[0.4,\"#fde0ef\"],[0.5,\"#f7f7f7\"],[0.6,\"#e6f5d0\"],[0.7,\"#b8e186\"],[0.8,\"#7fbc41\"],[0.9,\"#4d9221\"],[1,\"#276419\"]]},\"xaxis\":{\"gridcolor\":\"white\",\"linecolor\":\"white\",\"ticks\":\"\",\"title\":{\"standoff\":15},\"zerolinecolor\":\"white\",\"automargin\":true,\"zerolinewidth\":2},\"yaxis\":{\"gridcolor\":\"white\",\"linecolor\":\"white\",\"ticks\":\"\",\"title\":{\"standoff\":15},\"zerolinecolor\":\"white\",\"automargin\":true,\"zerolinewidth\":2},\"scene\":{\"xaxis\":{\"backgroundcolor\":\"#E5ECF6\",\"gridcolor\":\"white\",\"linecolor\":\"white\",\"showbackground\":true,\"ticks\":\"\",\"zerolinecolor\":\"white\",\"gridwidth\":2},\"yaxis\":{\"backgroundcolor\":\"#E5ECF6\",\"gridcolor\":\"white\",\"linecolor\":\"white\",\"showbackground\":true,\"ticks\":\"\",\"zerolinecolor\":\"white\",\"gridwidth\":2},\"zaxis\":{\"backgroundcolor\":\"#E5ECF6\",\"gridcolor\":\"white\",\"linecolor\":\"white\",\"showbackground\":true,\"ticks\":\"\",\"zerolinecolor\":\"white\",\"gridwidth\":2}},\"shapedefaults\":{\"line\":{\"color\":\"#2a3f5f\"}},\"annotationdefaults\":{\"arrowcolor\":\"#2a3f5f\",\"arrowhead\":0,\"arrowwidth\":1},\"geo\":{\"bgcolor\":\"white\",\"landcolor\":\"#E5ECF6\",\"subunitcolor\":\"white\",\"showland\":true,\"showlakes\":true,\"lakecolor\":\"white\"},\"title\":{\"x\":0.05},\"mapbox\":{\"style\":\"light\"}}},\"xaxis\":{\"anchor\":\"y\",\"domain\":[0.0,1.0],\"title\":{\"text\":\"Value\"}},\"yaxis\":{\"anchor\":\"x\",\"domain\":[0.0,1.0],\"title\":{\"text\":\"Stage\"}},\"legend\":{\"tracegroupgap\":0},\"title\":{\"text\":\"Funnel Analysis: Impressions → Clicks → Leads → Conversions\"}},                        {\"responsive\": true}                    ).then(function(){\n",
       "                            \n",
       "var gd = document.getElementById('0538e6b0-275d-47f7-b477-383c6a66adf8');\n",
       "var x = new MutationObserver(function (mutations, observer) {{\n",
       "        var display = window.getComputedStyle(gd).display;\n",
       "        if (!display || display === 'none') {{\n",
       "            console.log([gd, 'removed!']);\n",
       "            Plotly.purge(gd);\n",
       "            observer.disconnect();\n",
       "        }}\n",
       "}});\n",
       "\n",
       "// Listen for the removal of the full notebook cells\n",
       "var notebookContainer = gd.closest('#notebook-container');\n",
       "if (notebookContainer) {{\n",
       "    x.observe(notebookContainer, {childList: true});\n",
       "}}\n",
       "\n",
       "// Listen for the clearing of the current output cell\n",
       "var outputEl = gd.closest('.output');\n",
       "if (outputEl) {{\n",
       "    x.observe(outputEl, {childList: true});\n",
       "}}\n",
       "\n",
       "                        })                };                            </script>        </div>\n",
       "</body>\n",
       "</html>"
      ]
     },
     "metadata": {},
     "output_type": "display_data"
    }
   ],
   "source": [
    "import plotly.express as px\n",
    "\n",
    "funnel_data = {\n",
    "    'Stage': ['Impressions', 'Clicks', 'Leads', 'Conversions'],\n",
    "    'Value': [df['Impressions'].sum(), df['Clicks'].sum(), df['Leads'].sum(), df['Conversions'].sum()]\n",
    "}\n",
    "\n",
    "funnel_df = pd.DataFrame(funnel_data)\n",
    "\n",
    "fig = px.funnel(funnel_df, x='Value', y='Stage', title=\"Funnel Analysis: Impressions → Clicks → Leads → Conversions\")\n",
    "fig.show()"
   ]
  },
  {
   "cell_type": "markdown",
   "id": "34a04c8c",
   "metadata": {
    "papermill": {
     "duration": 0.021859,
     "end_time": "2025-08-18T00:26:48.278383",
     "exception": false,
     "start_time": "2025-08-18T00:26:48.256524",
     "status": "completed"
    },
    "tags": []
   },
   "source": [
    "**Funnel Analysis**\n",
    "\n",
    "* CTR (Clicks / Impressions) ≈ 3.07%, Out of everyone who sees the ad, only 3% click on it\n",
    "\n",
    "* Lead Rate (Leads / Clicks) ≈ 14.4%, Out of those who click, only 14% become leads\n",
    "\n",
    "* Closing Rate (Conversions / Leads) ≈ 32.5%, Out of leads, about one-third convert\n",
    "\n",
    "**interpretation**\n",
    "\n",
    "* The most critical stage: Impressions, Clicks. CTR is still on the low side, meaning the main issue is in the ad appeal (headline, visuals, or targeting).\n",
    "\n",
    "* Leads → Conversions is quite good (32%), showing the closing process works well.\n",
    "\n",
    "* Second bottleneck: Clicks → Leads, possibly due to landing page friction, a long form, or an offer that isn’t attractive enough."
   ]
  },
  {
   "cell_type": "code",
   "execution_count": 46,
   "id": "6aeb2ca8",
   "metadata": {
    "execution": {
     "iopub.execute_input": "2025-08-18T00:26:48.324309Z",
     "iopub.status.busy": "2025-08-18T00:26:48.323636Z",
     "iopub.status.idle": "2025-08-18T00:26:48.830136Z",
     "shell.execute_reply": "2025-08-18T00:26:48.828959Z"
    },
    "executionInfo": {
     "elapsed": 401,
     "status": "ok",
     "timestamp": 1755056727496,
     "user": {
      "displayName": "Ahsan Mubarak",
      "userId": "13952536471194166156"
     },
     "user_tz": -420
    },
    "id": "HXVthVFes5Xf",
    "outputId": "d6c8cd7b-1982-4385-e453-768d9f35c703",
    "papermill": {
     "duration": 0.532428,
     "end_time": "2025-08-18T00:26:48.833102",
     "exception": false,
     "start_time": "2025-08-18T00:26:48.300674",
     "status": "completed"
    },
    "tags": []
   },
   "outputs": [
    {
     "data": {
      "image/png": "[encoded data removed]",
      "text/plain": [
       "<Figure size 1200x800 with 2 Axes>"
      ]
     },
     "metadata": {},
     "output_type": "display_data"
    }
   ],
   "source": [
    "numeric_df = df.select_dtypes(include=[np.number])\n",
    "\n",
    "plt.figure(figsize=(12, 8))\n",
    "sns.heatmap(numeric_df.corr(), annot=True, fmt='.2f', cmap='Blues', cbar=True)\n",
    "plt.title('Correlation Matrix of Numeric Variables')\n",
    "plt.tight_layout()\n",
    "plt.show()"
   ]
  },
  {
   "cell_type": "markdown",
   "id": "8dd455d1",
   "metadata": {
    "papermill": {
     "duration": 0.024048,
     "end_time": "2025-08-18T00:26:48.882436",
     "exception": false,
     "start_time": "2025-08-18T00:26:48.858388",
     "status": "completed"
    },
    "tags": []
   },
   "source": [
    "**Final Insight**\n",
    "\n",
    "* CR is already good, but CTR could be improved to unlock more conversions.\n",
    "\n",
    "* Mobile drives the highest CR.\n",
    "\n",
    "* ROI is spread evenly among the top 10 ads, meaning no single ad dominates.\n",
    "\n",
    "* The biggest weakness is in the first funnel stage (Impressions → Clicks), while the last stage (Leads → Conversions) performs strongly.\n",
    "\n",
    "**Recommendations**\n",
    "\n",
    "1. Boost CTR\n",
    "\n",
    "* Test different headlines, visuals, and ad formats.\n",
    "\n",
    "* Refine audience targeting to reach more relevant users.\n",
    "\n",
    "2. Optimize Click → Lead\n",
    "\n",
    "* Shorten the form.\n",
    "\n",
    "* Add trust elements (testimonials, guarantees, etc.).\n",
    "\n",
    "* Make sure the landing page matches the ad content.\n",
    "\n",
    "3. Scale high-ROI ads\n",
    "\n",
    "* Allocate more budget to A2660, A2585, and A3459.\n",
    "\n",
    "4. Maximize mobile performance\n",
    "\n",
    "* Ensure mobile pages are fast and responsive.\n",
    "\n",
    "5. Track the funnel regularly\n",
    "\n",
    "* Monitor CTR and Lead Rate to measure the effect of changes over time."
   ]
  }
 ],
 "metadata": {
  "colab": {
   "authorship_tag": "ABX9TyOMzqDBa4LiRYrx+akdAJ1/",
   "provenance": []
  },
  "kaggle": {
   "accelerator": "none",
   "dataSources": [
    {
     "datasetId": 8065399,
     "sourceId": 12758498,
     "sourceType": "datasetVersion"
    }
   ],
   "dockerImageVersionId": 31089,
   "isGpuEnabled": false,
   "isInternetEnabled": true,
   "language": "python",
   "sourceType": "notebook"
  },
  "kernelspec": {
   "display_name": "Python 3",
   "language": "python",
   "name": "python3"
  },
  "language_info": {
   "codemirror_mode": {
    "name": "ipython",
    "version": 3
   },
   "file_extension": ".py",
   "mimetype": "text/x-python",
   "name": "python",
   "nbconvert_exporter": "python",
   "pygments_lexer": "ipython3",
   "version": "3.11.13"
  },
  "papermill": {
   "default_parameters": {},
   "duration": 25.011557,
   "end_time": "2025-08-18T00:26:49.831152",
   "environment_variables": {},
   "exception": null,
   "input_path": "__notebook__.ipynb",
   "output_path": "__notebook__.ipynb",
   "parameters": {},
   "start_time": "2025-08-18T00:26:24.819595",
   "version": "2.6.0"
  }
 },
 "nbformat": 4,
 "nbformat_minor": 5
}
